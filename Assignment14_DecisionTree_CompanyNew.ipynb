{
 "cells": [
  {
   "cell_type": "code",
   "execution_count": 1,
   "id": "dd615b4a",
   "metadata": {},
   "outputs": [],
   "source": [
    "import numpy as np\n",
    "import pandas as pd\n",
    "import seaborn as sns\n",
    "import matplotlib.pyplot as plt\n",
    "\n",
    "from sklearn import tree\n",
    "from collections import Counter\n",
    "from sklearn.tree import  DecisionTreeClassifier\n",
    "from sklearn.feature_selection import SelectKBest, chi2\n",
    "from sklearn.preprocessing import StandardScaler, LabelEncoder\n",
    "from sklearn.metrics import f1_score, precision_score, recall_score, accuracy_score, classification_report\n",
    "from sklearn.metrics import confusion_matrix,accuracy_score, roc_auc_score, roc_curve, precision_recall_curve\n",
    "from sklearn.model_selection import GridSearchCV, KFold, StratifiedKFold, cross_val_score, train_test_split\n",
    "\n",
    "import warnings\n",
    "warnings.filterwarnings('ignore')"
   ]
  },
  {
   "cell_type": "code",
   "execution_count": 2,
   "id": "2cf24f5f",
   "metadata": {},
   "outputs": [
    {
     "data": {
      "text/html": [
       "<div>\n",
       "<style scoped>\n",
       "    .dataframe tbody tr th:only-of-type {\n",
       "        vertical-align: middle;\n",
       "    }\n",
       "\n",
       "    .dataframe tbody tr th {\n",
       "        vertical-align: top;\n",
       "    }\n",
       "\n",
       "    .dataframe thead th {\n",
       "        text-align: right;\n",
       "    }\n",
       "</style>\n",
       "<table border=\"1\" class=\"dataframe\">\n",
       "  <thead>\n",
       "    <tr style=\"text-align: right;\">\n",
       "      <th></th>\n",
       "      <th>Sales</th>\n",
       "      <th>CompPrice</th>\n",
       "      <th>Income</th>\n",
       "      <th>Advertising</th>\n",
       "      <th>Population</th>\n",
       "      <th>Price</th>\n",
       "      <th>ShelveLoc</th>\n",
       "      <th>Age</th>\n",
       "      <th>Education</th>\n",
       "      <th>Urban</th>\n",
       "      <th>US</th>\n",
       "    </tr>\n",
       "  </thead>\n",
       "  <tbody>\n",
       "    <tr>\n",
       "      <th>0</th>\n",
       "      <td>9.50</td>\n",
       "      <td>138</td>\n",
       "      <td>73</td>\n",
       "      <td>11</td>\n",
       "      <td>276</td>\n",
       "      <td>120</td>\n",
       "      <td>Bad</td>\n",
       "      <td>42</td>\n",
       "      <td>17</td>\n",
       "      <td>Yes</td>\n",
       "      <td>Yes</td>\n",
       "    </tr>\n",
       "    <tr>\n",
       "      <th>1</th>\n",
       "      <td>11.22</td>\n",
       "      <td>111</td>\n",
       "      <td>48</td>\n",
       "      <td>16</td>\n",
       "      <td>260</td>\n",
       "      <td>83</td>\n",
       "      <td>Good</td>\n",
       "      <td>65</td>\n",
       "      <td>10</td>\n",
       "      <td>Yes</td>\n",
       "      <td>Yes</td>\n",
       "    </tr>\n",
       "    <tr>\n",
       "      <th>2</th>\n",
       "      <td>10.06</td>\n",
       "      <td>113</td>\n",
       "      <td>35</td>\n",
       "      <td>10</td>\n",
       "      <td>269</td>\n",
       "      <td>80</td>\n",
       "      <td>Medium</td>\n",
       "      <td>59</td>\n",
       "      <td>12</td>\n",
       "      <td>Yes</td>\n",
       "      <td>Yes</td>\n",
       "    </tr>\n",
       "    <tr>\n",
       "      <th>3</th>\n",
       "      <td>7.40</td>\n",
       "      <td>117</td>\n",
       "      <td>100</td>\n",
       "      <td>4</td>\n",
       "      <td>466</td>\n",
       "      <td>97</td>\n",
       "      <td>Medium</td>\n",
       "      <td>55</td>\n",
       "      <td>14</td>\n",
       "      <td>Yes</td>\n",
       "      <td>Yes</td>\n",
       "    </tr>\n",
       "    <tr>\n",
       "      <th>4</th>\n",
       "      <td>4.15</td>\n",
       "      <td>141</td>\n",
       "      <td>64</td>\n",
       "      <td>3</td>\n",
       "      <td>340</td>\n",
       "      <td>128</td>\n",
       "      <td>Bad</td>\n",
       "      <td>38</td>\n",
       "      <td>13</td>\n",
       "      <td>Yes</td>\n",
       "      <td>No</td>\n",
       "    </tr>\n",
       "    <tr>\n",
       "      <th>...</th>\n",
       "      <td>...</td>\n",
       "      <td>...</td>\n",
       "      <td>...</td>\n",
       "      <td>...</td>\n",
       "      <td>...</td>\n",
       "      <td>...</td>\n",
       "      <td>...</td>\n",
       "      <td>...</td>\n",
       "      <td>...</td>\n",
       "      <td>...</td>\n",
       "      <td>...</td>\n",
       "    </tr>\n",
       "    <tr>\n",
       "      <th>395</th>\n",
       "      <td>12.57</td>\n",
       "      <td>138</td>\n",
       "      <td>108</td>\n",
       "      <td>17</td>\n",
       "      <td>203</td>\n",
       "      <td>128</td>\n",
       "      <td>Good</td>\n",
       "      <td>33</td>\n",
       "      <td>14</td>\n",
       "      <td>Yes</td>\n",
       "      <td>Yes</td>\n",
       "    </tr>\n",
       "    <tr>\n",
       "      <th>396</th>\n",
       "      <td>6.14</td>\n",
       "      <td>139</td>\n",
       "      <td>23</td>\n",
       "      <td>3</td>\n",
       "      <td>37</td>\n",
       "      <td>120</td>\n",
       "      <td>Medium</td>\n",
       "      <td>55</td>\n",
       "      <td>11</td>\n",
       "      <td>No</td>\n",
       "      <td>Yes</td>\n",
       "    </tr>\n",
       "    <tr>\n",
       "      <th>397</th>\n",
       "      <td>7.41</td>\n",
       "      <td>162</td>\n",
       "      <td>26</td>\n",
       "      <td>12</td>\n",
       "      <td>368</td>\n",
       "      <td>159</td>\n",
       "      <td>Medium</td>\n",
       "      <td>40</td>\n",
       "      <td>18</td>\n",
       "      <td>Yes</td>\n",
       "      <td>Yes</td>\n",
       "    </tr>\n",
       "    <tr>\n",
       "      <th>398</th>\n",
       "      <td>5.94</td>\n",
       "      <td>100</td>\n",
       "      <td>79</td>\n",
       "      <td>7</td>\n",
       "      <td>284</td>\n",
       "      <td>95</td>\n",
       "      <td>Bad</td>\n",
       "      <td>50</td>\n",
       "      <td>12</td>\n",
       "      <td>Yes</td>\n",
       "      <td>Yes</td>\n",
       "    </tr>\n",
       "    <tr>\n",
       "      <th>399</th>\n",
       "      <td>9.71</td>\n",
       "      <td>134</td>\n",
       "      <td>37</td>\n",
       "      <td>0</td>\n",
       "      <td>27</td>\n",
       "      <td>120</td>\n",
       "      <td>Good</td>\n",
       "      <td>49</td>\n",
       "      <td>16</td>\n",
       "      <td>Yes</td>\n",
       "      <td>Yes</td>\n",
       "    </tr>\n",
       "  </tbody>\n",
       "</table>\n",
       "<p>400 rows × 11 columns</p>\n",
       "</div>"
      ],
      "text/plain": [
       "     Sales  CompPrice  Income  Advertising  Population  Price ShelveLoc  Age  \\\n",
       "0     9.50        138      73           11         276    120       Bad   42   \n",
       "1    11.22        111      48           16         260     83      Good   65   \n",
       "2    10.06        113      35           10         269     80    Medium   59   \n",
       "3     7.40        117     100            4         466     97    Medium   55   \n",
       "4     4.15        141      64            3         340    128       Bad   38   \n",
       "..     ...        ...     ...          ...         ...    ...       ...  ...   \n",
       "395  12.57        138     108           17         203    128      Good   33   \n",
       "396   6.14        139      23            3          37    120    Medium   55   \n",
       "397   7.41        162      26           12         368    159    Medium   40   \n",
       "398   5.94        100      79            7         284     95       Bad   50   \n",
       "399   9.71        134      37            0          27    120      Good   49   \n",
       "\n",
       "     Education Urban   US  \n",
       "0           17   Yes  Yes  \n",
       "1           10   Yes  Yes  \n",
       "2           12   Yes  Yes  \n",
       "3           14   Yes  Yes  \n",
       "4           13   Yes   No  \n",
       "..         ...   ...  ...  \n",
       "395         14   Yes  Yes  \n",
       "396         11    No  Yes  \n",
       "397         18   Yes  Yes  \n",
       "398         12   Yes  Yes  \n",
       "399         16   Yes  Yes  \n",
       "\n",
       "[400 rows x 11 columns]"
      ]
     },
     "execution_count": 2,
     "metadata": {},
     "output_type": "execute_result"
    }
   ],
   "source": [
    "company_data = pd.read_csv(\"D:\\Ankita\\Assignments\\\\Company_Data.csv\")\n",
    "company_data"
   ]
  },
  {
   "cell_type": "code",
   "execution_count": 3,
   "id": "8393c1ff",
   "metadata": {},
   "outputs": [
    {
     "data": {
      "text/plain": [
       "Sales          0\n",
       "CompPrice      0\n",
       "Income         0\n",
       "Advertising    0\n",
       "Population     0\n",
       "Price          0\n",
       "ShelveLoc      0\n",
       "Age            0\n",
       "Education      0\n",
       "Urban          0\n",
       "US             0\n",
       "dtype: int64"
      ]
     },
     "execution_count": 3,
     "metadata": {},
     "output_type": "execute_result"
    }
   ],
   "source": [
    "company_data.isnull().sum()"
   ]
  },
  {
   "cell_type": "code",
   "execution_count": 4,
   "id": "1383d285",
   "metadata": {},
   "outputs": [
    {
     "data": {
      "text/plain": [
       "(400, 11)"
      ]
     },
     "execution_count": 4,
     "metadata": {},
     "output_type": "execute_result"
    }
   ],
   "source": [
    "company_data.shape"
   ]
  },
  {
   "cell_type": "code",
   "execution_count": 5,
   "id": "43b06975",
   "metadata": {},
   "outputs": [
    {
     "name": "stdout",
     "output_type": "stream",
     "text": [
      "<class 'pandas.core.frame.DataFrame'>\n",
      "RangeIndex: 400 entries, 0 to 399\n",
      "Data columns (total 11 columns):\n",
      " #   Column       Non-Null Count  Dtype  \n",
      "---  ------       --------------  -----  \n",
      " 0   Sales        400 non-null    float64\n",
      " 1   CompPrice    400 non-null    int64  \n",
      " 2   Income       400 non-null    int64  \n",
      " 3   Advertising  400 non-null    int64  \n",
      " 4   Population   400 non-null    int64  \n",
      " 5   Price        400 non-null    int64  \n",
      " 6   ShelveLoc    400 non-null    object \n",
      " 7   Age          400 non-null    int64  \n",
      " 8   Education    400 non-null    int64  \n",
      " 9   Urban        400 non-null    object \n",
      " 10  US           400 non-null    object \n",
      "dtypes: float64(1), int64(7), object(3)\n",
      "memory usage: 34.5+ KB\n"
     ]
    }
   ],
   "source": [
    "company_data.info()\n"
   ]
  },
  {
   "cell_type": "code",
   "execution_count": 6,
   "id": "97b00fcb",
   "metadata": {},
   "outputs": [
    {
     "data": {
      "text/html": [
       "<div>\n",
       "<style scoped>\n",
       "    .dataframe tbody tr th:only-of-type {\n",
       "        vertical-align: middle;\n",
       "    }\n",
       "\n",
       "    .dataframe tbody tr th {\n",
       "        vertical-align: top;\n",
       "    }\n",
       "\n",
       "    .dataframe thead th {\n",
       "        text-align: right;\n",
       "    }\n",
       "</style>\n",
       "<table border=\"1\" class=\"dataframe\">\n",
       "  <thead>\n",
       "    <tr style=\"text-align: right;\">\n",
       "      <th></th>\n",
       "      <th>Sales</th>\n",
       "      <th>CompPrice</th>\n",
       "      <th>Income</th>\n",
       "      <th>Advertising</th>\n",
       "      <th>Population</th>\n",
       "      <th>Price</th>\n",
       "      <th>Age</th>\n",
       "      <th>Education</th>\n",
       "    </tr>\n",
       "  </thead>\n",
       "  <tbody>\n",
       "    <tr>\n",
       "      <th>count</th>\n",
       "      <td>400.000000</td>\n",
       "      <td>400.000000</td>\n",
       "      <td>400.000000</td>\n",
       "      <td>400.000000</td>\n",
       "      <td>400.000000</td>\n",
       "      <td>400.000000</td>\n",
       "      <td>400.000000</td>\n",
       "      <td>400.000000</td>\n",
       "    </tr>\n",
       "    <tr>\n",
       "      <th>mean</th>\n",
       "      <td>7.496325</td>\n",
       "      <td>124.975000</td>\n",
       "      <td>68.657500</td>\n",
       "      <td>6.635000</td>\n",
       "      <td>264.840000</td>\n",
       "      <td>115.795000</td>\n",
       "      <td>53.322500</td>\n",
       "      <td>13.900000</td>\n",
       "    </tr>\n",
       "    <tr>\n",
       "      <th>std</th>\n",
       "      <td>2.824115</td>\n",
       "      <td>15.334512</td>\n",
       "      <td>27.986037</td>\n",
       "      <td>6.650364</td>\n",
       "      <td>147.376436</td>\n",
       "      <td>23.676664</td>\n",
       "      <td>16.200297</td>\n",
       "      <td>2.620528</td>\n",
       "    </tr>\n",
       "    <tr>\n",
       "      <th>min</th>\n",
       "      <td>0.000000</td>\n",
       "      <td>77.000000</td>\n",
       "      <td>21.000000</td>\n",
       "      <td>0.000000</td>\n",
       "      <td>10.000000</td>\n",
       "      <td>24.000000</td>\n",
       "      <td>25.000000</td>\n",
       "      <td>10.000000</td>\n",
       "    </tr>\n",
       "    <tr>\n",
       "      <th>25%</th>\n",
       "      <td>5.390000</td>\n",
       "      <td>115.000000</td>\n",
       "      <td>42.750000</td>\n",
       "      <td>0.000000</td>\n",
       "      <td>139.000000</td>\n",
       "      <td>100.000000</td>\n",
       "      <td>39.750000</td>\n",
       "      <td>12.000000</td>\n",
       "    </tr>\n",
       "    <tr>\n",
       "      <th>50%</th>\n",
       "      <td>7.490000</td>\n",
       "      <td>125.000000</td>\n",
       "      <td>69.000000</td>\n",
       "      <td>5.000000</td>\n",
       "      <td>272.000000</td>\n",
       "      <td>117.000000</td>\n",
       "      <td>54.500000</td>\n",
       "      <td>14.000000</td>\n",
       "    </tr>\n",
       "    <tr>\n",
       "      <th>75%</th>\n",
       "      <td>9.320000</td>\n",
       "      <td>135.000000</td>\n",
       "      <td>91.000000</td>\n",
       "      <td>12.000000</td>\n",
       "      <td>398.500000</td>\n",
       "      <td>131.000000</td>\n",
       "      <td>66.000000</td>\n",
       "      <td>16.000000</td>\n",
       "    </tr>\n",
       "    <tr>\n",
       "      <th>max</th>\n",
       "      <td>16.270000</td>\n",
       "      <td>175.000000</td>\n",
       "      <td>120.000000</td>\n",
       "      <td>29.000000</td>\n",
       "      <td>509.000000</td>\n",
       "      <td>191.000000</td>\n",
       "      <td>80.000000</td>\n",
       "      <td>18.000000</td>\n",
       "    </tr>\n",
       "  </tbody>\n",
       "</table>\n",
       "</div>"
      ],
      "text/plain": [
       "            Sales   CompPrice      Income  Advertising  Population  \\\n",
       "count  400.000000  400.000000  400.000000   400.000000  400.000000   \n",
       "mean     7.496325  124.975000   68.657500     6.635000  264.840000   \n",
       "std      2.824115   15.334512   27.986037     6.650364  147.376436   \n",
       "min      0.000000   77.000000   21.000000     0.000000   10.000000   \n",
       "25%      5.390000  115.000000   42.750000     0.000000  139.000000   \n",
       "50%      7.490000  125.000000   69.000000     5.000000  272.000000   \n",
       "75%      9.320000  135.000000   91.000000    12.000000  398.500000   \n",
       "max     16.270000  175.000000  120.000000    29.000000  509.000000   \n",
       "\n",
       "            Price         Age   Education  \n",
       "count  400.000000  400.000000  400.000000  \n",
       "mean   115.795000   53.322500   13.900000  \n",
       "std     23.676664   16.200297    2.620528  \n",
       "min     24.000000   25.000000   10.000000  \n",
       "25%    100.000000   39.750000   12.000000  \n",
       "50%    117.000000   54.500000   14.000000  \n",
       "75%    131.000000   66.000000   16.000000  \n",
       "max    191.000000   80.000000   18.000000  "
      ]
     },
     "execution_count": 6,
     "metadata": {},
     "output_type": "execute_result"
    }
   ],
   "source": [
    "company_data.describe()\n"
   ]
  },
  {
   "cell_type": "code",
   "execution_count": 7,
   "id": "78a5e0c0",
   "metadata": {},
   "outputs": [
    {
     "data": {
      "image/png": "[encoded data removed]",
      "text/plain": [
       "<Figure size 432x288 with 1 Axes>"
      ]
     },
     "metadata": {
      "needs_background": "light"
     },
     "output_type": "display_data"
    }
   ],
   "source": [
    "\n",
    "plt.hist('Sales',data= company_data)\n",
    "plt.show()"
   ]
  },
  {
   "cell_type": "code",
   "execution_count": 8,
   "id": "ec601b7d",
   "metadata": {},
   "outputs": [
    {
     "data": {
      "text/html": [
       "<div>\n",
       "<style scoped>\n",
       "    .dataframe tbody tr th:only-of-type {\n",
       "        vertical-align: middle;\n",
       "    }\n",
       "\n",
       "    .dataframe tbody tr th {\n",
       "        vertical-align: top;\n",
       "    }\n",
       "\n",
       "    .dataframe thead th {\n",
       "        text-align: right;\n",
       "    }\n",
       "</style>\n",
       "<table border=\"1\" class=\"dataframe\">\n",
       "  <thead>\n",
       "    <tr style=\"text-align: right;\">\n",
       "      <th></th>\n",
       "      <th>Sales</th>\n",
       "      <th>CompPrice</th>\n",
       "      <th>Income</th>\n",
       "      <th>Advertising</th>\n",
       "      <th>Population</th>\n",
       "      <th>Price</th>\n",
       "      <th>ShelveLoc</th>\n",
       "      <th>Age</th>\n",
       "      <th>Education</th>\n",
       "      <th>Urban</th>\n",
       "      <th>US</th>\n",
       "      <th>Sales_cat</th>\n",
       "    </tr>\n",
       "  </thead>\n",
       "  <tbody>\n",
       "    <tr>\n",
       "      <th>0</th>\n",
       "      <td>9.50</td>\n",
       "      <td>138</td>\n",
       "      <td>73</td>\n",
       "      <td>11</td>\n",
       "      <td>276</td>\n",
       "      <td>120</td>\n",
       "      <td>Bad</td>\n",
       "      <td>42</td>\n",
       "      <td>17</td>\n",
       "      <td>Yes</td>\n",
       "      <td>Yes</td>\n",
       "      <td>High</td>\n",
       "    </tr>\n",
       "    <tr>\n",
       "      <th>1</th>\n",
       "      <td>11.22</td>\n",
       "      <td>111</td>\n",
       "      <td>48</td>\n",
       "      <td>16</td>\n",
       "      <td>260</td>\n",
       "      <td>83</td>\n",
       "      <td>Good</td>\n",
       "      <td>65</td>\n",
       "      <td>10</td>\n",
       "      <td>Yes</td>\n",
       "      <td>Yes</td>\n",
       "      <td>High</td>\n",
       "    </tr>\n",
       "    <tr>\n",
       "      <th>2</th>\n",
       "      <td>10.06</td>\n",
       "      <td>113</td>\n",
       "      <td>35</td>\n",
       "      <td>10</td>\n",
       "      <td>269</td>\n",
       "      <td>80</td>\n",
       "      <td>Medium</td>\n",
       "      <td>59</td>\n",
       "      <td>12</td>\n",
       "      <td>Yes</td>\n",
       "      <td>Yes</td>\n",
       "      <td>High</td>\n",
       "    </tr>\n",
       "    <tr>\n",
       "      <th>3</th>\n",
       "      <td>7.40</td>\n",
       "      <td>117</td>\n",
       "      <td>100</td>\n",
       "      <td>4</td>\n",
       "      <td>466</td>\n",
       "      <td>97</td>\n",
       "      <td>Medium</td>\n",
       "      <td>55</td>\n",
       "      <td>14</td>\n",
       "      <td>Yes</td>\n",
       "      <td>Yes</td>\n",
       "      <td>Medium</td>\n",
       "    </tr>\n",
       "    <tr>\n",
       "      <th>4</th>\n",
       "      <td>4.15</td>\n",
       "      <td>141</td>\n",
       "      <td>64</td>\n",
       "      <td>3</td>\n",
       "      <td>340</td>\n",
       "      <td>128</td>\n",
       "      <td>Bad</td>\n",
       "      <td>38</td>\n",
       "      <td>13</td>\n",
       "      <td>Yes</td>\n",
       "      <td>No</td>\n",
       "      <td>Low</td>\n",
       "    </tr>\n",
       "  </tbody>\n",
       "</table>\n",
       "</div>"
      ],
      "text/plain": [
       "   Sales  CompPrice  Income  Advertising  Population  Price ShelveLoc  Age  \\\n",
       "0   9.50        138      73           11         276    120       Bad   42   \n",
       "1  11.22        111      48           16         260     83      Good   65   \n",
       "2  10.06        113      35           10         269     80    Medium   59   \n",
       "3   7.40        117     100            4         466     97    Medium   55   \n",
       "4   4.15        141      64            3         340    128       Bad   38   \n",
       "\n",
       "   Education Urban   US Sales_cat  \n",
       "0         17   Yes  Yes      High  \n",
       "1         10   Yes  Yes      High  \n",
       "2         12   Yes  Yes      High  \n",
       "3         14   Yes  Yes    Medium  \n",
       "4         13   Yes   No       Low  "
      ]
     },
     "execution_count": 8,
     "metadata": {},
     "output_type": "execute_result"
    }
   ],
   "source": [
    "company_data1 = company_data.copy()\n",
    "company_data1['Sales_cat'] = pd.cut(x = company_data1['Sales'], bins = [0,5.39,9.32,17], labels=['Low','Medium','High'], right = False)\n",
    "company_data1.head()"
   ]
  },
  {
   "cell_type": "code",
   "execution_count": 9,
   "id": "d3a64a2b",
   "metadata": {},
   "outputs": [
    {
     "data": {
      "text/plain": [
       "Medium    198\n",
       "High      102\n",
       "Low       100\n",
       "Name: Sales_cat, dtype: int64"
      ]
     },
     "execution_count": 9,
     "metadata": {},
     "output_type": "execute_result"
    }
   ],
   "source": [
    "company_data1.Sales_cat.value_counts()"
   ]
  },
  {
   "cell_type": "code",
   "execution_count": 10,
   "id": "3d3cb02a",
   "metadata": {},
   "outputs": [
    {
     "name": "stdout",
     "output_type": "stream",
     "text": [
      "<class 'pandas.core.frame.DataFrame'>\n",
      "RangeIndex: 400 entries, 0 to 399\n",
      "Data columns (total 12 columns):\n",
      " #   Column       Non-Null Count  Dtype   \n",
      "---  ------       --------------  -----   \n",
      " 0   Sales        400 non-null    float64 \n",
      " 1   CompPrice    400 non-null    int64   \n",
      " 2   Income       400 non-null    int64   \n",
      " 3   Advertising  400 non-null    int64   \n",
      " 4   Population   400 non-null    int64   \n",
      " 5   Price        400 non-null    int64   \n",
      " 6   ShelveLoc    400 non-null    object  \n",
      " 7   Age          400 non-null    int64   \n",
      " 8   Education    400 non-null    int64   \n",
      " 9   Urban        400 non-null    object  \n",
      " 10  US           400 non-null    object  \n",
      " 11  Sales_cat    400 non-null    category\n",
      "dtypes: category(1), float64(1), int64(7), object(3)\n",
      "memory usage: 35.0+ KB\n"
     ]
    }
   ],
   "source": [
    "company_data1.info()"
   ]
  },
  {
   "cell_type": "code",
   "execution_count": 11,
   "id": "3beadc48",
   "metadata": {},
   "outputs": [
    {
     "data": {
      "text/plain": [
       "Index(['ShelveLoc', 'Urban', 'US', 'Sales_cat'], dtype='object')"
      ]
     },
     "execution_count": 11,
     "metadata": {},
     "output_type": "execute_result"
    }
   ],
   "source": [
    "categorical_features = company_data1.describe(include=[\"object\",'category']).columns\n",
    "categorical_features"
   ]
  },
  {
   "cell_type": "code",
   "execution_count": 12,
   "id": "63c19eba",
   "metadata": {},
   "outputs": [
    {
     "data": {
      "text/plain": [
       "Index(['Sales', 'CompPrice', 'Income', 'Advertising', 'Population', 'Price',\n",
       "       'Age', 'Education'],\n",
       "      dtype='object')"
      ]
     },
     "execution_count": 12,
     "metadata": {},
     "output_type": "execute_result"
    }
   ],
   "source": [
    "numerical_features = company_data1.describe(include=[\"int64\",\"float64\"]).columns\n",
    "numerical_features"
   ]
  },
  {
   "cell_type": "markdown",
   "id": "518caff0",
   "metadata": {},
   "source": [
    "Outliers"
   ]
  },
  {
   "cell_type": "code",
   "execution_count": 13,
   "id": "4c78781b",
   "metadata": {},
   "outputs": [
    {
     "data": {
      "text/plain": [
       "Index(['Sales', 'CompPrice', 'Income', 'Advertising', 'Population', 'Price',\n",
       "       'Age', 'Education'],\n",
       "      dtype='object')"
      ]
     },
     "execution_count": 13,
     "metadata": {},
     "output_type": "execute_result"
    }
   ],
   "source": [
    "numerical_features\n"
   ]
  },
  {
   "cell_type": "code",
   "execution_count": 14,
   "id": "96f03a9b",
   "metadata": {},
   "outputs": [
    {
     "data": {
      "image/png": "[encoded data removed]",
      "text/plain": [
       "<Figure size 864x792 with 8 Axes>"
      ]
     },
     "metadata": {
      "needs_background": "light"
     },
     "output_type": "display_data"
    }
   ],
   "source": [
    "outliers = company_data.copy() \n",
    "fig, axes = plt.subplots(8,1,figsize=(12,11),sharex=False,sharey=False)\n",
    "sns.boxplot(x='Sales', data= outliers,palette='crest',ax=axes[0])\n",
    "sns.boxplot(x='CompPrice',data= outliers,palette='crest',ax=axes[1])\n",
    "sns.boxplot(x='Income',data= outliers,palette='crest',ax=axes[2])\n",
    "sns.boxplot(x='Advertising',data= outliers,palette='crest',ax=axes[3])\n",
    "sns.boxplot(x='Population',data= outliers,palette='crest',ax=axes[4])\n",
    "sns.boxplot(x='Price',data= outliers,palette='crest',ax=axes[5])\n",
    "sns.boxplot(x='Age',data= outliers,palette='crest',ax=axes[6])\n",
    "sns.boxplot(x='Education',data= outliers,palette='crest',ax=axes[7])\n",
    "plt.tight_layout(pad=2.0)"
   ]
  },
  {
   "cell_type": "code",
   "execution_count": 15,
   "id": "622d2748",
   "metadata": {},
   "outputs": [
    {
     "data": {
      "image/png": "[encoded data removed]",
      "text/plain": [
       "<Figure size 648x504 with 2 Axes>"
      ]
     },
     "metadata": {
      "needs_background": "light"
     },
     "output_type": "display_data"
    }
   ],
   "source": [
    "#correlation matrix\n",
    "fig, ax = plt.subplots(figsize=(9,7))\n",
    "sns.heatmap(company_data.corr(), annot=True, fmt='.2g', cmap=\"viridis\")\n",
    "plt.show()"
   ]
  },
  {
   "cell_type": "code",
   "execution_count": 16,
   "id": "d7337771",
   "metadata": {},
   "outputs": [
    {
     "name": "stdout",
     "output_type": "stream",
     "text": [
      "Index(['ShelveLoc', 'Urban', 'US', 'Sales_cat'], dtype='object')\n"
     ]
    },
    {
     "data": {
      "image/png": "[encoded data removed]",
      "text/plain": [
       "<Figure size 432x288 with 1 Axes>"
      ]
     },
     "metadata": {
      "needs_background": "light"
     },
     "output_type": "display_data"
    },
    {
     "data": {
      "image/png": "[encoded data removed]",
      "text/plain": [
       "<Figure size 432x288 with 1 Axes>"
      ]
     },
     "metadata": {
      "needs_background": "light"
     },
     "output_type": "display_data"
    },
    {
     "data": {
      "image/png": "[encoded data removed]",
      "text/plain": [
       "<Figure size 432x288 with 1 Axes>"
      ]
     },
     "metadata": {
      "needs_background": "light"
     },
     "output_type": "display_data"
    },
    {
     "data": {
      "image/png": "[encoded data removed]",
      "text/plain": [
       "<Figure size 432x288 with 1 Axes>"
      ]
     },
     "metadata": {
      "needs_background": "light"
     },
     "output_type": "display_data"
    }
   ],
   "source": [
    "print(categorical_features)\n",
    "\n",
    "for idx, column in enumerate(categorical_features):\n",
    "    plt.figure(figsize=(6,4))\n",
    "    unique = company_data1[column].value_counts(ascending=True);   \n",
    "    plt.title(\"Count of \"+ column)\n",
    "    sns.countplot(data= company_data1, x=column, palette = \"dark\")\n",
    "    plt.xticks(rotation = 0, size = 12)\n",
    "    plt.xlabel(column, fontsize=12)\n",
    "    plt.ylabel(\"Number of \"+ column, fontsize=12)\n",
    "plt.show()"
   ]
  },
  {
   "cell_type": "code",
   "execution_count": 17,
   "id": "58eb0749",
   "metadata": {},
   "outputs": [
    {
     "data": {
      "text/html": [
       "<div>\n",
       "<style scoped>\n",
       "    .dataframe tbody tr th:only-of-type {\n",
       "        vertical-align: middle;\n",
       "    }\n",
       "\n",
       "    .dataframe tbody tr th {\n",
       "        vertical-align: top;\n",
       "    }\n",
       "\n",
       "    .dataframe thead th {\n",
       "        text-align: right;\n",
       "    }\n",
       "</style>\n",
       "<table border=\"1\" class=\"dataframe\">\n",
       "  <thead>\n",
       "    <tr style=\"text-align: right;\">\n",
       "      <th></th>\n",
       "      <th>CompPrice</th>\n",
       "      <th>Income</th>\n",
       "      <th>Advertising</th>\n",
       "      <th>Population</th>\n",
       "      <th>Price</th>\n",
       "      <th>Age</th>\n",
       "      <th>Education</th>\n",
       "      <th>ShelveLoc_Bad</th>\n",
       "      <th>ShelveLoc_Good</th>\n",
       "      <th>ShelveLoc_Medium</th>\n",
       "      <th>Urban_No</th>\n",
       "      <th>Urban_Yes</th>\n",
       "      <th>US_No</th>\n",
       "      <th>US_Yes</th>\n",
       "    </tr>\n",
       "  </thead>\n",
       "  <tbody>\n",
       "    <tr>\n",
       "      <th>0</th>\n",
       "      <td>138</td>\n",
       "      <td>73</td>\n",
       "      <td>11</td>\n",
       "      <td>276</td>\n",
       "      <td>120</td>\n",
       "      <td>42</td>\n",
       "      <td>17</td>\n",
       "      <td>1</td>\n",
       "      <td>0</td>\n",
       "      <td>0</td>\n",
       "      <td>0</td>\n",
       "      <td>1</td>\n",
       "      <td>0</td>\n",
       "      <td>1</td>\n",
       "    </tr>\n",
       "    <tr>\n",
       "      <th>1</th>\n",
       "      <td>111</td>\n",
       "      <td>48</td>\n",
       "      <td>16</td>\n",
       "      <td>260</td>\n",
       "      <td>83</td>\n",
       "      <td>65</td>\n",
       "      <td>10</td>\n",
       "      <td>0</td>\n",
       "      <td>1</td>\n",
       "      <td>0</td>\n",
       "      <td>0</td>\n",
       "      <td>1</td>\n",
       "      <td>0</td>\n",
       "      <td>1</td>\n",
       "    </tr>\n",
       "    <tr>\n",
       "      <th>2</th>\n",
       "      <td>113</td>\n",
       "      <td>35</td>\n",
       "      <td>10</td>\n",
       "      <td>269</td>\n",
       "      <td>80</td>\n",
       "      <td>59</td>\n",
       "      <td>12</td>\n",
       "      <td>0</td>\n",
       "      <td>0</td>\n",
       "      <td>1</td>\n",
       "      <td>0</td>\n",
       "      <td>1</td>\n",
       "      <td>0</td>\n",
       "      <td>1</td>\n",
       "    </tr>\n",
       "    <tr>\n",
       "      <th>3</th>\n",
       "      <td>117</td>\n",
       "      <td>100</td>\n",
       "      <td>4</td>\n",
       "      <td>466</td>\n",
       "      <td>97</td>\n",
       "      <td>55</td>\n",
       "      <td>14</td>\n",
       "      <td>0</td>\n",
       "      <td>0</td>\n",
       "      <td>1</td>\n",
       "      <td>0</td>\n",
       "      <td>1</td>\n",
       "      <td>0</td>\n",
       "      <td>1</td>\n",
       "    </tr>\n",
       "    <tr>\n",
       "      <th>4</th>\n",
       "      <td>141</td>\n",
       "      <td>64</td>\n",
       "      <td>3</td>\n",
       "      <td>340</td>\n",
       "      <td>128</td>\n",
       "      <td>38</td>\n",
       "      <td>13</td>\n",
       "      <td>1</td>\n",
       "      <td>0</td>\n",
       "      <td>0</td>\n",
       "      <td>0</td>\n",
       "      <td>1</td>\n",
       "      <td>1</td>\n",
       "      <td>0</td>\n",
       "    </tr>\n",
       "  </tbody>\n",
       "</table>\n",
       "</div>"
      ],
      "text/plain": [
       "   CompPrice  Income  Advertising  Population  Price  Age  Education  \\\n",
       "0        138      73           11         276    120   42         17   \n",
       "1        111      48           16         260     83   65         10   \n",
       "2        113      35           10         269     80   59         12   \n",
       "3        117     100            4         466     97   55         14   \n",
       "4        141      64            3         340    128   38         13   \n",
       "\n",
       "   ShelveLoc_Bad  ShelveLoc_Good  ShelveLoc_Medium  Urban_No  Urban_Yes  \\\n",
       "0              1               0                 0         0          1   \n",
       "1              0               1                 0         0          1   \n",
       "2              0               0                 1         0          1   \n",
       "3              0               0                 1         0          1   \n",
       "4              1               0                 0         0          1   \n",
       "\n",
       "   US_No  US_Yes  \n",
       "0      0       1  \n",
       "1      0       1  \n",
       "2      0       1  \n",
       "3      0       1  \n",
       "4      1       0  "
      ]
     },
     "execution_count": 17,
     "metadata": {},
     "output_type": "execute_result"
    }
   ],
   "source": [
    "company_data_dummi = company_data1.copy()\n",
    "company_data_dummi.drop('Sales',axis=1, inplace =True)\n",
    "company_data_dummi = pd.get_dummies(company_data_dummi.iloc[:,:-1])\n",
    "company_data_dummi.head()"
   ]
  },
  {
   "cell_type": "code",
   "execution_count": 18,
   "id": "39c20faf",
   "metadata": {},
   "outputs": [
    {
     "data": {
      "image/png": "[encoded data removed]",
      "text/plain": [
       "<Figure size 648x432 with 1 Axes>"
      ]
     },
     "metadata": {
      "needs_background": "light"
     },
     "output_type": "display_data"
    }
   ],
   "source": [
    "company_data2 = company_data_dummi.copy()\n",
    "\n",
    "correlations = company_data2.corrwith(company_data1.Sales)\n",
    "correlations = correlations[correlations!=1]\n",
    "positive_correlations = correlations[correlations >0].sort_values(ascending = False)\n",
    "negative_correlations =correlations[correlations<0].sort_values(ascending = False)\n",
    "\n",
    "correlations.plot.bar(figsize = (9,6), fontsize = 12, color = 'orange', rot = 45, grid = True)\n",
    "plt.title('Correlation with Sales',fontsize = \"16\")\n",
    "plt.show()"
   ]
  },
  {
   "cell_type": "code",
   "execution_count": 19,
   "id": "75b83476",
   "metadata": {},
   "outputs": [
    {
     "data": {
      "text/plain": [
       "Medium    198\n",
       "High      102\n",
       "Low       100\n",
       "Name: Sales_cat, dtype: int64"
      ]
     },
     "execution_count": 19,
     "metadata": {},
     "output_type": "execute_result"
    }
   ],
   "source": [
    "company_data1.Sales_cat.value_counts()"
   ]
  },
  {
   "cell_type": "code",
   "execution_count": 20,
   "id": "82ff6003",
   "metadata": {},
   "outputs": [
    {
     "data": {
      "image/png": "[encoded data removed]",
      "text/plain": [
       "<Figure size 432x288 with 1 Axes>"
      ]
     },
     "metadata": {
      "needs_background": "light"
     },
     "output_type": "display_data"
    }
   ],
   "source": [
    "sns.countplot(x= 'Sales_cat', data= company_data1, palette= 'viridis', order= company_data1['Sales_cat'].value_counts().index)\n",
    "plt.xticks(fontsize= 12)\n",
    "plt.title('Low Medium or Good for Sales', fontsize= 14)\n",
    "plt.show()\n"
   ]
  },
  {
   "cell_type": "code",
   "execution_count": 21,
   "id": "b09d36f6",
   "metadata": {},
   "outputs": [
    {
     "data": {
      "text/html": [
       "<div>\n",
       "<style scoped>\n",
       "    .dataframe tbody tr th:only-of-type {\n",
       "        vertical-align: middle;\n",
       "    }\n",
       "\n",
       "    .dataframe tbody tr th {\n",
       "        vertical-align: top;\n",
       "    }\n",
       "\n",
       "    .dataframe thead th {\n",
       "        text-align: right;\n",
       "    }\n",
       "</style>\n",
       "<table border=\"1\" class=\"dataframe\">\n",
       "  <thead>\n",
       "    <tr style=\"text-align: right;\">\n",
       "      <th></th>\n",
       "      <th>CompPrice</th>\n",
       "      <th>Income</th>\n",
       "      <th>Advertising</th>\n",
       "      <th>Population</th>\n",
       "      <th>Price</th>\n",
       "      <th>Age</th>\n",
       "      <th>Education</th>\n",
       "      <th>ShelveLoc_Bad</th>\n",
       "      <th>ShelveLoc_Good</th>\n",
       "      <th>ShelveLoc_Medium</th>\n",
       "      <th>Urban_No</th>\n",
       "      <th>Urban_Yes</th>\n",
       "      <th>US_No</th>\n",
       "      <th>US_Yes</th>\n",
       "    </tr>\n",
       "  </thead>\n",
       "  <tbody>\n",
       "    <tr>\n",
       "      <th>0</th>\n",
       "      <td>138</td>\n",
       "      <td>73</td>\n",
       "      <td>11</td>\n",
       "      <td>276</td>\n",
       "      <td>120</td>\n",
       "      <td>42</td>\n",
       "      <td>17</td>\n",
       "      <td>1</td>\n",
       "      <td>0</td>\n",
       "      <td>0</td>\n",
       "      <td>0</td>\n",
       "      <td>1</td>\n",
       "      <td>0</td>\n",
       "      <td>1</td>\n",
       "    </tr>\n",
       "    <tr>\n",
       "      <th>1</th>\n",
       "      <td>111</td>\n",
       "      <td>48</td>\n",
       "      <td>16</td>\n",
       "      <td>260</td>\n",
       "      <td>83</td>\n",
       "      <td>65</td>\n",
       "      <td>10</td>\n",
       "      <td>0</td>\n",
       "      <td>1</td>\n",
       "      <td>0</td>\n",
       "      <td>0</td>\n",
       "      <td>1</td>\n",
       "      <td>0</td>\n",
       "      <td>1</td>\n",
       "    </tr>\n",
       "    <tr>\n",
       "      <th>2</th>\n",
       "      <td>113</td>\n",
       "      <td>35</td>\n",
       "      <td>10</td>\n",
       "      <td>269</td>\n",
       "      <td>80</td>\n",
       "      <td>59</td>\n",
       "      <td>12</td>\n",
       "      <td>0</td>\n",
       "      <td>0</td>\n",
       "      <td>1</td>\n",
       "      <td>0</td>\n",
       "      <td>1</td>\n",
       "      <td>0</td>\n",
       "      <td>1</td>\n",
       "    </tr>\n",
       "    <tr>\n",
       "      <th>3</th>\n",
       "      <td>117</td>\n",
       "      <td>100</td>\n",
       "      <td>4</td>\n",
       "      <td>466</td>\n",
       "      <td>97</td>\n",
       "      <td>55</td>\n",
       "      <td>14</td>\n",
       "      <td>0</td>\n",
       "      <td>0</td>\n",
       "      <td>1</td>\n",
       "      <td>0</td>\n",
       "      <td>1</td>\n",
       "      <td>0</td>\n",
       "      <td>1</td>\n",
       "    </tr>\n",
       "    <tr>\n",
       "      <th>4</th>\n",
       "      <td>141</td>\n",
       "      <td>64</td>\n",
       "      <td>3</td>\n",
       "      <td>340</td>\n",
       "      <td>128</td>\n",
       "      <td>38</td>\n",
       "      <td>13</td>\n",
       "      <td>1</td>\n",
       "      <td>0</td>\n",
       "      <td>0</td>\n",
       "      <td>0</td>\n",
       "      <td>1</td>\n",
       "      <td>1</td>\n",
       "      <td>0</td>\n",
       "    </tr>\n",
       "  </tbody>\n",
       "</table>\n",
       "</div>"
      ],
      "text/plain": [
       "   CompPrice  Income  Advertising  Population  Price  Age  Education  \\\n",
       "0        138      73           11         276    120   42         17   \n",
       "1        111      48           16         260     83   65         10   \n",
       "2        113      35           10         269     80   59         12   \n",
       "3        117     100            4         466     97   55         14   \n",
       "4        141      64            3         340    128   38         13   \n",
       "\n",
       "   ShelveLoc_Bad  ShelveLoc_Good  ShelveLoc_Medium  Urban_No  Urban_Yes  \\\n",
       "0              1               0                 0         0          1   \n",
       "1              0               1                 0         0          1   \n",
       "2              0               0                 1         0          1   \n",
       "3              0               0                 1         0          1   \n",
       "4              1               0                 0         0          1   \n",
       "\n",
       "   US_No  US_Yes  \n",
       "0      0       1  \n",
       "1      0       1  \n",
       "2      0       1  \n",
       "3      0       1  \n",
       "4      1       0  "
      ]
     },
     "execution_count": 21,
     "metadata": {},
     "output_type": "execute_result"
    }
   ],
   "source": [
    "#Data Pre-Processing\n",
    "company_data3 = company_data1.copy()\n",
    "company_data3.drop('Sales',axis=1, inplace =True)\n",
    "company_data3 = pd.get_dummies(company_data3.iloc[:,:-1])\n",
    "company_data3.head()"
   ]
  },
  {
   "cell_type": "code",
   "execution_count": 22,
   "id": "f287e965",
   "metadata": {},
   "outputs": [
    {
     "data": {
      "text/html": [
       "<div>\n",
       "<style scoped>\n",
       "    .dataframe tbody tr th:only-of-type {\n",
       "        vertical-align: middle;\n",
       "    }\n",
       "\n",
       "    .dataframe tbody tr th {\n",
       "        vertical-align: top;\n",
       "    }\n",
       "\n",
       "    .dataframe thead th {\n",
       "        text-align: right;\n",
       "    }\n",
       "</style>\n",
       "<table border=\"1\" class=\"dataframe\">\n",
       "  <thead>\n",
       "    <tr style=\"text-align: right;\">\n",
       "      <th></th>\n",
       "      <th>CompPrice</th>\n",
       "      <th>Income</th>\n",
       "      <th>Advertising</th>\n",
       "      <th>Population</th>\n",
       "      <th>Price</th>\n",
       "      <th>Age</th>\n",
       "      <th>Education</th>\n",
       "      <th>ShelveLoc_Bad</th>\n",
       "      <th>ShelveLoc_Good</th>\n",
       "      <th>ShelveLoc_Medium</th>\n",
       "      <th>Urban_No</th>\n",
       "      <th>Urban_Yes</th>\n",
       "      <th>US_No</th>\n",
       "      <th>US_Yes</th>\n",
       "      <th>Sales</th>\n",
       "    </tr>\n",
       "  </thead>\n",
       "  <tbody>\n",
       "    <tr>\n",
       "      <th>0</th>\n",
       "      <td>138</td>\n",
       "      <td>73</td>\n",
       "      <td>11</td>\n",
       "      <td>276</td>\n",
       "      <td>120</td>\n",
       "      <td>42</td>\n",
       "      <td>17</td>\n",
       "      <td>1</td>\n",
       "      <td>0</td>\n",
       "      <td>0</td>\n",
       "      <td>0</td>\n",
       "      <td>1</td>\n",
       "      <td>0</td>\n",
       "      <td>1</td>\n",
       "      <td>High</td>\n",
       "    </tr>\n",
       "    <tr>\n",
       "      <th>1</th>\n",
       "      <td>111</td>\n",
       "      <td>48</td>\n",
       "      <td>16</td>\n",
       "      <td>260</td>\n",
       "      <td>83</td>\n",
       "      <td>65</td>\n",
       "      <td>10</td>\n",
       "      <td>0</td>\n",
       "      <td>1</td>\n",
       "      <td>0</td>\n",
       "      <td>0</td>\n",
       "      <td>1</td>\n",
       "      <td>0</td>\n",
       "      <td>1</td>\n",
       "      <td>High</td>\n",
       "    </tr>\n",
       "    <tr>\n",
       "      <th>2</th>\n",
       "      <td>113</td>\n",
       "      <td>35</td>\n",
       "      <td>10</td>\n",
       "      <td>269</td>\n",
       "      <td>80</td>\n",
       "      <td>59</td>\n",
       "      <td>12</td>\n",
       "      <td>0</td>\n",
       "      <td>0</td>\n",
       "      <td>1</td>\n",
       "      <td>0</td>\n",
       "      <td>1</td>\n",
       "      <td>0</td>\n",
       "      <td>1</td>\n",
       "      <td>High</td>\n",
       "    </tr>\n",
       "    <tr>\n",
       "      <th>3</th>\n",
       "      <td>117</td>\n",
       "      <td>100</td>\n",
       "      <td>4</td>\n",
       "      <td>466</td>\n",
       "      <td>97</td>\n",
       "      <td>55</td>\n",
       "      <td>14</td>\n",
       "      <td>0</td>\n",
       "      <td>0</td>\n",
       "      <td>1</td>\n",
       "      <td>0</td>\n",
       "      <td>1</td>\n",
       "      <td>0</td>\n",
       "      <td>1</td>\n",
       "      <td>Medium</td>\n",
       "    </tr>\n",
       "    <tr>\n",
       "      <th>4</th>\n",
       "      <td>141</td>\n",
       "      <td>64</td>\n",
       "      <td>3</td>\n",
       "      <td>340</td>\n",
       "      <td>128</td>\n",
       "      <td>38</td>\n",
       "      <td>13</td>\n",
       "      <td>1</td>\n",
       "      <td>0</td>\n",
       "      <td>0</td>\n",
       "      <td>0</td>\n",
       "      <td>1</td>\n",
       "      <td>1</td>\n",
       "      <td>0</td>\n",
       "      <td>Low</td>\n",
       "    </tr>\n",
       "  </tbody>\n",
       "</table>\n",
       "</div>"
      ],
      "text/plain": [
       "   CompPrice  Income  Advertising  Population  Price  Age  Education  \\\n",
       "0        138      73           11         276    120   42         17   \n",
       "1        111      48           16         260     83   65         10   \n",
       "2        113      35           10         269     80   59         12   \n",
       "3        117     100            4         466     97   55         14   \n",
       "4        141      64            3         340    128   38         13   \n",
       "\n",
       "   ShelveLoc_Bad  ShelveLoc_Good  ShelveLoc_Medium  Urban_No  Urban_Yes  \\\n",
       "0              1               0                 0         0          1   \n",
       "1              0               1                 0         0          1   \n",
       "2              0               0                 1         0          1   \n",
       "3              0               0                 1         0          1   \n",
       "4              1               0                 0         0          1   \n",
       "\n",
       "   US_No  US_Yes   Sales  \n",
       "0      0       1    High  \n",
       "1      0       1    High  \n",
       "2      0       1    High  \n",
       "3      0       1  Medium  \n",
       "4      1       0     Low  "
      ]
     },
     "execution_count": 22,
     "metadata": {},
     "output_type": "execute_result"
    }
   ],
   "source": [
    "company_data3['Sales'] = company_data1.Sales_cat\n",
    "company_data3.head()"
   ]
  },
  {
   "cell_type": "code",
   "execution_count": 23,
   "id": "347041dd",
   "metadata": {},
   "outputs": [
    {
     "data": {
      "text/html": [
       "<div>\n",
       "<style scoped>\n",
       "    .dataframe tbody tr th:only-of-type {\n",
       "        vertical-align: middle;\n",
       "    }\n",
       "\n",
       "    .dataframe tbody tr th {\n",
       "        vertical-align: top;\n",
       "    }\n",
       "\n",
       "    .dataframe thead th {\n",
       "        text-align: right;\n",
       "    }\n",
       "</style>\n",
       "<table border=\"1\" class=\"dataframe\">\n",
       "  <thead>\n",
       "    <tr style=\"text-align: right;\">\n",
       "      <th></th>\n",
       "      <th>CompPrice</th>\n",
       "      <th>Income</th>\n",
       "      <th>Advertising</th>\n",
       "      <th>Population</th>\n",
       "      <th>Price</th>\n",
       "      <th>Age</th>\n",
       "      <th>Education</th>\n",
       "      <th>ShelveLoc_Bad</th>\n",
       "      <th>ShelveLoc_Good</th>\n",
       "      <th>ShelveLoc_Medium</th>\n",
       "      <th>Urban_No</th>\n",
       "      <th>Urban_Yes</th>\n",
       "      <th>US_No</th>\n",
       "      <th>US_Yes</th>\n",
       "      <th>Sales</th>\n",
       "    </tr>\n",
       "  </thead>\n",
       "  <tbody>\n",
       "    <tr>\n",
       "      <th>0</th>\n",
       "      <td>138</td>\n",
       "      <td>73</td>\n",
       "      <td>11</td>\n",
       "      <td>276</td>\n",
       "      <td>120</td>\n",
       "      <td>42</td>\n",
       "      <td>17</td>\n",
       "      <td>1</td>\n",
       "      <td>0</td>\n",
       "      <td>0</td>\n",
       "      <td>0</td>\n",
       "      <td>1</td>\n",
       "      <td>0</td>\n",
       "      <td>1</td>\n",
       "      <td>0</td>\n",
       "    </tr>\n",
       "    <tr>\n",
       "      <th>1</th>\n",
       "      <td>111</td>\n",
       "      <td>48</td>\n",
       "      <td>16</td>\n",
       "      <td>260</td>\n",
       "      <td>83</td>\n",
       "      <td>65</td>\n",
       "      <td>10</td>\n",
       "      <td>0</td>\n",
       "      <td>1</td>\n",
       "      <td>0</td>\n",
       "      <td>0</td>\n",
       "      <td>1</td>\n",
       "      <td>0</td>\n",
       "      <td>1</td>\n",
       "      <td>0</td>\n",
       "    </tr>\n",
       "    <tr>\n",
       "      <th>2</th>\n",
       "      <td>113</td>\n",
       "      <td>35</td>\n",
       "      <td>10</td>\n",
       "      <td>269</td>\n",
       "      <td>80</td>\n",
       "      <td>59</td>\n",
       "      <td>12</td>\n",
       "      <td>0</td>\n",
       "      <td>0</td>\n",
       "      <td>1</td>\n",
       "      <td>0</td>\n",
       "      <td>1</td>\n",
       "      <td>0</td>\n",
       "      <td>1</td>\n",
       "      <td>0</td>\n",
       "    </tr>\n",
       "    <tr>\n",
       "      <th>3</th>\n",
       "      <td>117</td>\n",
       "      <td>100</td>\n",
       "      <td>4</td>\n",
       "      <td>466</td>\n",
       "      <td>97</td>\n",
       "      <td>55</td>\n",
       "      <td>14</td>\n",
       "      <td>0</td>\n",
       "      <td>0</td>\n",
       "      <td>1</td>\n",
       "      <td>0</td>\n",
       "      <td>1</td>\n",
       "      <td>0</td>\n",
       "      <td>1</td>\n",
       "      <td>2</td>\n",
       "    </tr>\n",
       "    <tr>\n",
       "      <th>4</th>\n",
       "      <td>141</td>\n",
       "      <td>64</td>\n",
       "      <td>3</td>\n",
       "      <td>340</td>\n",
       "      <td>128</td>\n",
       "      <td>38</td>\n",
       "      <td>13</td>\n",
       "      <td>1</td>\n",
       "      <td>0</td>\n",
       "      <td>0</td>\n",
       "      <td>0</td>\n",
       "      <td>1</td>\n",
       "      <td>1</td>\n",
       "      <td>0</td>\n",
       "      <td>1</td>\n",
       "    </tr>\n",
       "  </tbody>\n",
       "</table>\n",
       "</div>"
      ],
      "text/plain": [
       "   CompPrice  Income  Advertising  Population  Price  Age  Education  \\\n",
       "0        138      73           11         276    120   42         17   \n",
       "1        111      48           16         260     83   65         10   \n",
       "2        113      35           10         269     80   59         12   \n",
       "3        117     100            4         466     97   55         14   \n",
       "4        141      64            3         340    128   38         13   \n",
       "\n",
       "   ShelveLoc_Bad  ShelveLoc_Good  ShelveLoc_Medium  Urban_No  Urban_Yes  \\\n",
       "0              1               0                 0         0          1   \n",
       "1              0               1                 0         0          1   \n",
       "2              0               0                 1         0          1   \n",
       "3              0               0                 1         0          1   \n",
       "4              1               0                 0         0          1   \n",
       "\n",
       "   US_No  US_Yes  Sales  \n",
       "0      0       1      0  \n",
       "1      0       1      0  \n",
       "2      0       1      0  \n",
       "3      0       1      2  \n",
       "4      1       0      1  "
      ]
     },
     "execution_count": 23,
     "metadata": {},
     "output_type": "execute_result"
    }
   ],
   "source": [
    "#Lable Encoding\n",
    "le = LabelEncoder()\n",
    "le.fit(company_data3[\"Sales\"])\n",
    "company_data3[\"Sales\"]=le.transform(company_data3[\"Sales\"])\n",
    "company_data3.head()"
   ]
  },
  {
   "cell_type": "code",
   "execution_count": 24,
   "id": "162f5d38",
   "metadata": {},
   "outputs": [],
   "source": [
    "#Split into input (x) and output (y) variables\n",
    "x = company_data3.iloc[:, :-1]\n",
    "y=  company_data3.Sales"
   ]
  },
  {
   "cell_type": "code",
   "execution_count": 25,
   "id": "71c54abe",
   "metadata": {},
   "outputs": [],
   "source": [
    "#Feature extraction\n",
    "test = SelectKBest(score_func=chi2, k=4)\n",
    "fit = test.fit(x, y)"
   ]
  },
  {
   "cell_type": "code",
   "execution_count": 26,
   "id": "a288be6e",
   "metadata": {},
   "outputs": [],
   "source": [
    "#Summarize scores\n",
    "scores = fit.scores_\n",
    "features = fit.transform(x)"
   ]
  },
  {
   "cell_type": "code",
   "execution_count": 27,
   "id": "a455726d",
   "metadata": {},
   "outputs": [
    {
     "data": {
      "text/html": [
       "<div>\n",
       "<style scoped>\n",
       "    .dataframe tbody tr th:only-of-type {\n",
       "        vertical-align: middle;\n",
       "    }\n",
       "\n",
       "    .dataframe tbody tr th {\n",
       "        vertical-align: top;\n",
       "    }\n",
       "\n",
       "    .dataframe thead th {\n",
       "        text-align: right;\n",
       "    }\n",
       "</style>\n",
       "<table border=\"1\" class=\"dataframe\">\n",
       "  <thead>\n",
       "    <tr style=\"text-align: right;\">\n",
       "      <th></th>\n",
       "      <th>Score</th>\n",
       "      <th>Feature</th>\n",
       "    </tr>\n",
       "  </thead>\n",
       "  <tbody>\n",
       "    <tr>\n",
       "      <th>4</th>\n",
       "      <td>300.881058</td>\n",
       "      <td>Price</td>\n",
       "    </tr>\n",
       "    <tr>\n",
       "      <th>2</th>\n",
       "      <td>251.767458</td>\n",
       "      <td>Advertising</td>\n",
       "    </tr>\n",
       "    <tr>\n",
       "      <th>3</th>\n",
       "      <td>141.113336</td>\n",
       "      <td>Population</td>\n",
       "    </tr>\n",
       "    <tr>\n",
       "      <th>5</th>\n",
       "      <td>106.577639</td>\n",
       "      <td>Age</td>\n",
       "    </tr>\n",
       "    <tr>\n",
       "      <th>8</th>\n",
       "      <td>66.174919</td>\n",
       "      <td>ShelveLoc_Good</td>\n",
       "    </tr>\n",
       "    <tr>\n",
       "      <th>1</th>\n",
       "      <td>65.145403</td>\n",
       "      <td>Income</td>\n",
       "    </tr>\n",
       "    <tr>\n",
       "      <th>7</th>\n",
       "      <td>48.524460</td>\n",
       "      <td>ShelveLoc_Bad</td>\n",
       "    </tr>\n",
       "    <tr>\n",
       "      <th>12</th>\n",
       "      <td>13.109136</td>\n",
       "      <td>US_No</td>\n",
       "    </tr>\n",
       "    <tr>\n",
       "      <th>9</th>\n",
       "      <td>8.654770</td>\n",
       "      <td>ShelveLoc_Medium</td>\n",
       "    </tr>\n",
       "    <tr>\n",
       "      <th>13</th>\n",
       "      <td>7.215106</td>\n",
       "      <td>US_Yes</td>\n",
       "    </tr>\n",
       "    <tr>\n",
       "      <th>0</th>\n",
       "      <td>2.253637</td>\n",
       "      <td>CompPrice</td>\n",
       "    </tr>\n",
       "    <tr>\n",
       "      <th>6</th>\n",
       "      <td>0.689685</td>\n",
       "      <td>Education</td>\n",
       "    </tr>\n",
       "    <tr>\n",
       "      <th>10</th>\n",
       "      <td>0.163751</td>\n",
       "      <td>Urban_No</td>\n",
       "    </tr>\n",
       "    <tr>\n",
       "      <th>11</th>\n",
       "      <td>0.068520</td>\n",
       "      <td>Urban_Yes</td>\n",
       "    </tr>\n",
       "  </tbody>\n",
       "</table>\n",
       "</div>"
      ],
      "text/plain": [
       "         Score           Feature\n",
       "4   300.881058             Price\n",
       "2   251.767458       Advertising\n",
       "3   141.113336        Population\n",
       "5   106.577639               Age\n",
       "8    66.174919    ShelveLoc_Good\n",
       "1    65.145403            Income\n",
       "7    48.524460     ShelveLoc_Bad\n",
       "12   13.109136             US_No\n",
       "9     8.654770  ShelveLoc_Medium\n",
       "13    7.215106            US_Yes\n",
       "0     2.253637         CompPrice\n",
       "6     0.689685         Education\n",
       "10    0.163751          Urban_No\n",
       "11    0.068520         Urban_Yes"
      ]
     },
     "execution_count": 27,
     "metadata": {},
     "output_type": "execute_result"
    }
   ],
   "source": [
    "score_company_data = pd.DataFrame(list(zip(scores, x.columns)), columns =['Score', 'Feature'])\n",
    "score_company_data.sort_values(by=\"Score\", ascending=False, inplace=True)\n",
    "score_company_data"
   ]
  },
  {
   "cell_type": "code",
   "execution_count": 28,
   "id": "d9dc5111",
   "metadata": {},
   "outputs": [
    {
     "data": {
      "image/png": "[encoded data removed]",
      "text/plain": [
       "<Figure size 864x432 with 1 Axes>"
      ]
     },
     "metadata": {
      "needs_background": "light"
     },
     "output_type": "display_data"
    }
   ],
   "source": [
    "fig, axes = plt.subplots(figsize=(12,6))\n",
    "plt.bar([i for i in range(len(scores))],scores)\n",
    "axes.set_xticks([0,1,2,3,4,5,6,7,8,9,10,11,12,13])\n",
    "axes.set_xticklabels(x.columns.values)\n",
    "plt.xticks(rotation= 90, size= 14)\n",
    "plt.show()"
   ]
  },
  {
   "cell_type": "code",
   "execution_count": 29,
   "id": "b424658b",
   "metadata": {},
   "outputs": [
    {
     "data": {
      "text/html": [
       "<div>\n",
       "<style scoped>\n",
       "    .dataframe tbody tr th:only-of-type {\n",
       "        vertical-align: middle;\n",
       "    }\n",
       "\n",
       "    .dataframe tbody tr th {\n",
       "        vertical-align: top;\n",
       "    }\n",
       "\n",
       "    .dataframe thead th {\n",
       "        text-align: right;\n",
       "    }\n",
       "</style>\n",
       "<table border=\"1\" class=\"dataframe\">\n",
       "  <thead>\n",
       "    <tr style=\"text-align: right;\">\n",
       "      <th></th>\n",
       "      <th>Price</th>\n",
       "      <th>Advertising</th>\n",
       "      <th>Population</th>\n",
       "      <th>Income</th>\n",
       "      <th>Age</th>\n",
       "      <th>ShelveLoc_Good</th>\n",
       "      <th>ShelveLoc_Bad</th>\n",
       "      <th>ShelveLoc_Medium</th>\n",
       "      <th>Sales</th>\n",
       "    </tr>\n",
       "  </thead>\n",
       "  <tbody>\n",
       "    <tr>\n",
       "      <th>0</th>\n",
       "      <td>120</td>\n",
       "      <td>11</td>\n",
       "      <td>276</td>\n",
       "      <td>73</td>\n",
       "      <td>42</td>\n",
       "      <td>0</td>\n",
       "      <td>1</td>\n",
       "      <td>0</td>\n",
       "      <td>0</td>\n",
       "    </tr>\n",
       "    <tr>\n",
       "      <th>1</th>\n",
       "      <td>83</td>\n",
       "      <td>16</td>\n",
       "      <td>260</td>\n",
       "      <td>48</td>\n",
       "      <td>65</td>\n",
       "      <td>1</td>\n",
       "      <td>0</td>\n",
       "      <td>0</td>\n",
       "      <td>0</td>\n",
       "    </tr>\n",
       "    <tr>\n",
       "      <th>2</th>\n",
       "      <td>80</td>\n",
       "      <td>10</td>\n",
       "      <td>269</td>\n",
       "      <td>35</td>\n",
       "      <td>59</td>\n",
       "      <td>0</td>\n",
       "      <td>0</td>\n",
       "      <td>1</td>\n",
       "      <td>0</td>\n",
       "    </tr>\n",
       "    <tr>\n",
       "      <th>3</th>\n",
       "      <td>97</td>\n",
       "      <td>4</td>\n",
       "      <td>466</td>\n",
       "      <td>100</td>\n",
       "      <td>55</td>\n",
       "      <td>0</td>\n",
       "      <td>0</td>\n",
       "      <td>1</td>\n",
       "      <td>2</td>\n",
       "    </tr>\n",
       "    <tr>\n",
       "      <th>4</th>\n",
       "      <td>128</td>\n",
       "      <td>3</td>\n",
       "      <td>340</td>\n",
       "      <td>64</td>\n",
       "      <td>38</td>\n",
       "      <td>0</td>\n",
       "      <td>1</td>\n",
       "      <td>0</td>\n",
       "      <td>1</td>\n",
       "    </tr>\n",
       "  </tbody>\n",
       "</table>\n",
       "</div>"
      ],
      "text/plain": [
       "   Price  Advertising  Population  Income  Age  ShelveLoc_Good  ShelveLoc_Bad  \\\n",
       "0    120           11         276      73   42               0              1   \n",
       "1     83           16         260      48   65               1              0   \n",
       "2     80           10         269      35   59               0              0   \n",
       "3     97            4         466     100   55               0              0   \n",
       "4    128            3         340      64   38               0              1   \n",
       "\n",
       "   ShelveLoc_Medium  Sales  \n",
       "0                 0      0  \n",
       "1                 0      0  \n",
       "2                 1      0  \n",
       "3                 1      2  \n",
       "4                 0      1  "
      ]
     },
     "execution_count": 29,
     "metadata": {},
     "output_type": "execute_result"
    }
   ],
   "source": [
    "model_data = company_data3[['Price', 'Advertising','Population', 'Income', 'Age', 'ShelveLoc_Good', 'ShelveLoc_Bad', 'ShelveLoc_Medium','Sales']]\n",
    "model_data.head()"
   ]
  },
  {
   "cell_type": "code",
   "execution_count": 30,
   "id": "ea214c85",
   "metadata": {},
   "outputs": [],
   "source": [
    "#StratifiedKFold\n",
    "x = model_data.drop('Sales',axis=1)\n",
    "y = model_data[['Sales']]"
   ]
  },
  {
   "cell_type": "code",
   "execution_count": 31,
   "id": "6ae14108",
   "metadata": {},
   "outputs": [
    {
     "name": "stdout",
     "output_type": "stream",
     "text": [
      ">Train: 0=360, 1=360, Test: 0=40, 1=40\n",
      ">Train: 0=360, 1=360, Test: 0=40, 1=40\n",
      ">Train: 0=360, 1=360, Test: 0=40, 1=40\n",
      ">Train: 0=360, 1=360, Test: 0=40, 1=40\n",
      ">Train: 0=360, 1=360, Test: 0=40, 1=40\n",
      ">Train: 0=360, 1=360, Test: 0=40, 1=40\n",
      ">Train: 0=360, 1=360, Test: 0=40, 1=40\n",
      ">Train: 0=360, 1=360, Test: 0=40, 1=40\n",
      ">Train: 0=360, 1=360, Test: 0=40, 1=40\n",
      ">Train: 0=360, 1=360, Test: 0=40, 1=40\n"
     ]
    }
   ],
   "source": [
    "skf = StratifiedKFold(n_splits=10, shuffle=True, random_state=10)\n",
    "\n",
    "# enumerate the splits and summarize the distributions\n",
    "for train_ix, test_ix in skf.split(x, y):\n",
    "# select rows\n",
    "    train_x, test_x = x.iloc[train_ix], x.loc[test_ix]\n",
    "    train_y, test_y = y.iloc[train_ix], y.iloc[test_ix]\n",
    "\n",
    "# summarize train and test composition\n",
    "    train, train1 = len(train_y[train_y==0]), len(train_y[train_y==1])\n",
    "    test, test1 = len(test_y[test_y==0]), len(test_y[test_y==1])\n",
    "    print('>Train: 0=%d, 1=%d, Test: 0=%d, 1=%d' % (train, train1, test, test1))"
   ]
  },
  {
   "cell_type": "code",
   "execution_count": 32,
   "id": "3ad2a548",
   "metadata": {},
   "outputs": [],
   "source": [
    "#Test Train Split With Imbalanced Dataset\n",
    "x_train,x_test,y_train,y_test = train_test_split(x,y,test_size=0.2,random_state=10,stratify=y)"
   ]
  },
  {
   "cell_type": "code",
   "execution_count": 33,
   "id": "70cbd5d5",
   "metadata": {},
   "outputs": [
    {
     "name": "stdout",
     "output_type": "stream",
     "text": [
      ">Train: 0=320, 1=320, Test: 0=80, 1=80\n"
     ]
    }
   ],
   "source": [
    "train_0, train_1 = len(y_train[y_train==0]), len(y_train[y_train==1])\n",
    "test_0, test_1 = len(y_test[y_test==0]), len(y_test[y_test==1])\n",
    "print('>Train: 0=%d, 1=%d, Test: 0=%d, 1=%d' % (train_0, train_1, test_0, test_1))"
   ]
  },
  {
   "cell_type": "code",
   "execution_count": 34,
   "id": "e8f6c27a",
   "metadata": {},
   "outputs": [
    {
     "name": "stdout",
     "output_type": "stream",
     "text": [
      "Training Data Counter({'Sales': 1}) Testing Data Counter({'Sales': 1})\n"
     ]
    }
   ],
   "source": [
    "## summarize train and test composition\n",
    "counter_train = Counter(y_train)\n",
    "counter_test = Counter(y_test)\n",
    "print('Training Data',counter_train,'Testing Data',counter_test)"
   ]
  },
  {
   "cell_type": "code",
   "execution_count": 35,
   "id": "de173563",
   "metadata": {},
   "outputs": [
    {
     "name": "stdout",
     "output_type": "stream",
     "text": [
      "Shape of x_train :  (320, 8)\n",
      "Shape of x_test  :  (80, 8)\n",
      "Shape of y_train :  (320, 1)\n",
      "Shape of y_test  :  (80, 1)\n"
     ]
    }
   ],
   "source": [
    "print(\"Shape of x_train : \",x_train.shape)\n",
    "print(\"Shape of x_test  : \",x_test.shape)\n",
    "print(\"Shape of y_train : \",y_train.shape)\n",
    "print(\"Shape of y_test  : \",y_test.shape)"
   ]
  },
  {
   "cell_type": "code",
   "execution_count": 36,
   "id": "6459b380",
   "metadata": {},
   "outputs": [],
   "source": [
    "#Grid search using Stratified Kfold Splits on Imbalanced Dataset\n",
    "\n",
    "def print_score(clf, x_train, y_train, x_test, y_test, train=True):\n",
    "    if train:\n",
    "        pred = clf.predict(x_train)\n",
    "        clf_report = pd.DataFrame(classification_report(y_train, pred, output_dict=True))\n",
    "        print(\"Train Result:\\n==========================================================================\")\n",
    "        print(f\"Accuracy Score: {accuracy_score(y_train, pred) * 100:.2f}%\")\n",
    "        print(\"__________________________________________________________________________\")\n",
    "        print(f\"CLASSIFICATION REPORT:\\n{clf_report}\")\n",
    "        print(\"__________________________________________________________________________\")\n",
    "        print(f\"Confusion Matrix: \\n {confusion_matrix(y_train, pred)}\\n\")\n",
    "        \n",
    "    elif train==False:\n",
    "        pred = clf.predict(x_test)\n",
    "        clf_report = pd.DataFrame(classification_report(y_test, pred, output_dict=True))\n",
    "        print(\"Test Result:\\n==========================================================================\")        \n",
    "        print(f\"Accuracy Score: {accuracy_score(y_test, pred) * 100:.2f}%\")\n",
    "        print(\"__________________________________________________________________________\")\n",
    "        print(f\"CLASSIFICATION REPORT:\\n{clf_report}\")\n",
    "        print(\"__________________________________________________________________________\")\n",
    "        print(f\"Confusion Matrix: \\n {confusion_matrix(y_test, pred)}\\n\")"
   ]
  },
  {
   "cell_type": "code",
   "execution_count": 37,
   "id": "e5c39443",
   "metadata": {},
   "outputs": [
    {
     "name": "stdout",
     "output_type": "stream",
     "text": [
      "Fitting 3 folds for each of 972 candidates, totalling 2916 fits\n",
      "Best paramters: {'criterion': 'gini', 'max_depth': 5, 'min_samples_leaf': 9, 'min_samples_split': 2, 'splitter': 'best'})\n",
      "Train Result:\n",
      "==========================================================================\n",
      "Accuracy Score: 75.83%\n",
      "__________________________________________________________________________\n",
      "CLASSIFICATION REPORT:\n",
      "                   0          1           2  accuracy   macro avg  \\\n",
      "precision   0.778947   0.766234    0.744681  0.758333    0.763287   \n",
      "recall      0.804348   0.655556    0.786517  0.758333    0.748807   \n",
      "f1-score    0.791444   0.706587    0.765027  0.758333    0.754353   \n",
      "support    92.000000  90.000000  178.000000  0.758333  360.000000   \n",
      "\n",
      "           weighted avg  \n",
      "precision      0.758826  \n",
      "recall         0.758333  \n",
      "f1-score       0.757168  \n",
      "support      360.000000  \n",
      "__________________________________________________________________________\n",
      "Confusion Matrix: \n",
      " [[ 74   0  18]\n",
      " [  1  59  30]\n",
      " [ 20  18 140]]\n",
      "\n",
      "Test Result:\n",
      "==========================================================================\n",
      "Accuracy Score: 55.00%\n",
      "__________________________________________________________________________\n",
      "CLASSIFICATION REPORT:\n",
      "                   0          1          2  accuracy  macro avg  weighted avg\n",
      "precision   0.750000   0.333333   0.538462      0.55   0.540598      0.540064\n",
      "recall      0.600000   0.200000   0.700000      0.55   0.500000      0.550000\n",
      "f1-score    0.666667   0.250000   0.608696      0.55   0.508454      0.533514\n",
      "support    10.000000  10.000000  20.000000      0.55  40.000000     40.000000\n",
      "__________________________________________________________________________\n",
      "Confusion Matrix: \n",
      " [[ 6  0  4]\n",
      " [ 0  2  8]\n",
      " [ 2  4 14]]\n",
      "\n"
     ]
    }
   ],
   "source": [
    "params = {\"criterion\":[\"gini\", \"entropy\"], \"splitter\":[\"best\", \"random\"], \"max_depth\":(list(range(1,10))), \n",
    "          \"min_samples_split\":[2, 3, 4], \"min_samples_leaf\":list(range(1,10))}\n",
    "\n",
    "tree_clf = DecisionTreeClassifier(random_state=10)\n",
    "tree_cv = GridSearchCV(tree_clf, params, scoring=\"accuracy\", n_jobs=-1, verbose=1, cv=3)\n",
    "tree_cv.fit(train_x, train_y)\n",
    "best_params = tree_cv.best_params_\n",
    "print(f\"Best paramters: {best_params})\")\n",
    "\n",
    "tree_clf = DecisionTreeClassifier(**best_params)\n",
    "tree_clf.fit(train_x, train_y)\n",
    "print_score(tree_clf, train_x, train_y, test_x, test_y, train=True)\n",
    "print_score(tree_clf, train_x, train_y, test_x, test_y, train=False)"
   ]
  },
  {
   "cell_type": "code",
   "execution_count": 38,
   "id": "34b3e62d",
   "metadata": {},
   "outputs": [
    {
     "name": "stdout",
     "output_type": "stream",
     "text": [
      "0.5972222222222222\n"
     ]
    }
   ],
   "source": [
    "#et score for different values of n\n",
    "decision_tree = DecisionTreeClassifier()\n",
    "skf1 = StratifiedKFold(n_splits=15, shuffle=True, random_state=15)\n",
    "results = cross_val_score(decision_tree, train_x, train_y, cv=skf1)\n",
    "print(results.mean())"
   ]
  },
  {
   "cell_type": "code",
   "execution_count": 39,
   "id": "dea17816",
   "metadata": {},
   "outputs": [
    {
     "name": "stdout",
     "output_type": "stream",
     "text": [
      "Fitting 15 folds for each of 1458 candidates, totalling 21870 fits\n"
     ]
    }
   ],
   "source": [
    "params1 = {\"criterion\":[\"gini\",\"entropy\"],\"max_depth\":range(1,10),\n",
    "              \"min_samples_split\":range(1,10),\"min_samples_leaf\":range(1,10)}\n",
    "\n",
    "grid = GridSearchCV(decision_tree, param_grid = params1, cv=skf1, verbose=1, n_jobs=6)\n",
    "grid.fit(train_x,train_y)\n",
    "model1 = grid.best_estimator_"
   ]
  },
  {
   "cell_type": "code",
   "execution_count": 40,
   "id": "a4737c52",
   "metadata": {},
   "outputs": [
    {
     "data": {
      "text/plain": [
       "0.6888888888888887"
      ]
     },
     "execution_count": 40,
     "metadata": {},
     "output_type": "execute_result"
    }
   ],
   "source": [
    "grid.best_score_"
   ]
  },
  {
   "cell_type": "code",
   "execution_count": 41,
   "id": "6156b169",
   "metadata": {},
   "outputs": [
    {
     "data": {
      "text/plain": [
       "0.625"
      ]
     },
     "execution_count": 41,
     "metadata": {},
     "output_type": "execute_result"
    }
   ],
   "source": [
    "predict_output1 = model1.predict(test_x)\n",
    "accuracy_test1 = accuracy_score(test_y,predict_output1)\n",
    "accuracy_test1"
   ]
  },
  {
   "cell_type": "code",
   "execution_count": 42,
   "id": "a8e69af7",
   "metadata": {},
   "outputs": [
    {
     "name": "stdout",
     "output_type": "stream",
     "text": [
      "              precision    recall  f1-score   support\n",
      "\n",
      "           0       0.71      0.50      0.59        10\n",
      "           1       0.50      0.60      0.55        10\n",
      "           2       0.67      0.70      0.68        20\n",
      "\n",
      "    accuracy                           0.62        40\n",
      "   macro avg       0.63      0.60      0.61        40\n",
      "weighted avg       0.64      0.62      0.62        40\n",
      "\n"
     ]
    },
    {
     "data": {
      "image/png": "[encoded data removed]",
      "text/plain": [
       "<Figure size 432x288 with 2 Axes>"
      ]
     },
     "metadata": {
      "needs_background": "light"
     },
     "output_type": "display_data"
    }
   ],
   "source": [
    "sns.heatmap(confusion_matrix(test_y, predict_output1),annot=True)\n",
    "print(classification_report(test_y,predict_output1))"
   ]
  },
  {
   "cell_type": "code",
   "execution_count": 43,
   "id": "73ea8dc5",
   "metadata": {},
   "outputs": [
    {
     "name": "stdout",
     "output_type": "stream",
     "text": [
      "Fitting 3 folds for each of 972 candidates, totalling 2916 fits\n",
      "Best paramters: {'criterion': 'entropy', 'max_depth': 6, 'min_samples_leaf': 7, 'min_samples_split': 2, 'splitter': 'random'})\n",
      "Train Result:\n",
      "==========================================================================\n",
      "Accuracy Score: 67.19%\n",
      "__________________________________________________________________________\n",
      "CLASSIFICATION REPORT:\n",
      "                   0          1           2  accuracy   macro avg  \\\n",
      "precision   0.707317   0.621951    0.679487  0.671875    0.669585   \n",
      "recall      0.707317   0.637500    0.670886  0.671875    0.671901   \n",
      "f1-score    0.707317   0.629630    0.675159  0.671875    0.670702   \n",
      "support    82.000000  80.000000  158.000000  0.671875  320.000000   \n",
      "\n",
      "           weighted avg  \n",
      "precision      0.672235  \n",
      "recall         0.671875  \n",
      "f1-score       0.672017  \n",
      "support      320.000000  \n",
      "__________________________________________________________________________\n",
      "Confusion Matrix: \n",
      " [[ 58   2  22]\n",
      " [  1  51  28]\n",
      " [ 23  29 106]]\n",
      "\n",
      "Test Result:\n",
      "==========================================================================\n",
      "Accuracy Score: 72.50%\n",
      "__________________________________________________________________________\n",
      "CLASSIFICATION REPORT:\n",
      "               0          1      2  accuracy  macro avg  weighted avg\n",
      "precision   0.72   0.666667   0.75     0.725   0.712222      0.721667\n",
      "recall      0.90   0.500000   0.75     0.725   0.716667      0.725000\n",
      "f1-score    0.80   0.571429   0.75     0.725   0.707143      0.717857\n",
      "support    20.00  20.000000  40.00     0.725  80.000000     80.000000\n",
      "__________________________________________________________________________\n",
      "Confusion Matrix: \n",
      " [[18  2  0]\n",
      " [ 0 10 10]\n",
      " [ 7  3 30]]\n",
      "\n"
     ]
    }
   ],
   "source": [
    "#Grid search using Train Test Splits Stratifying Target feature on Imbalanced Dataset\n",
    "params = {\"criterion\":[\"gini\", \"entropy\"], \"splitter\":[\"best\", \"random\"], \"max_depth\":(list(range(1,10))), \n",
    "          \"min_samples_split\":[2, 3, 4], \"min_samples_leaf\":list(range(1,10))}\n",
    "\n",
    "tree_clf = DecisionTreeClassifier(random_state= 12)\n",
    "tree_cv = GridSearchCV(tree_clf, params, scoring=\"accuracy\", n_jobs=-1, verbose=1, cv=3)\n",
    "tree_cv.fit(x_train, y_train)\n",
    "best_params = tree_cv.best_params_\n",
    "print(f\"Best paramters: {best_params})\")\n",
    "\n",
    "tree_clf = DecisionTreeClassifier(**best_params)\n",
    "tree_clf.fit(x_train, y_train)\n",
    "print_score(tree_clf, x_train, y_train, x_test, y_test, train=True)\n",
    "print_score(tree_clf, x_train, y_train, x_test, y_test, train=False)"
   ]
  },
  {
   "cell_type": "code",
   "execution_count": 44,
   "id": "a35b490f",
   "metadata": {},
   "outputs": [
    {
     "name": "stdout",
     "output_type": "stream",
     "text": [
      "0.5784992784992784\n"
     ]
    }
   ],
   "source": [
    "#Get score for different values of n\n",
    "decision_tree = DecisionTreeClassifier()\n",
    "skf2 = StratifiedKFold(n_splits=15, shuffle=True, random_state=20)\n",
    "\n",
    "results = cross_val_score(decision_tree, x_train, y_train, cv=skf2)\n",
    "print(results.mean())"
   ]
  },
  {
   "cell_type": "code",
   "execution_count": 45,
   "id": "a34104e2",
   "metadata": {},
   "outputs": [
    {
     "name": "stdout",
     "output_type": "stream",
     "text": [
      "Fitting 15 folds for each of 1458 candidates, totalling 21870 fits\n"
     ]
    }
   ],
   "source": [
    "params2 = {\"criterion\":[\"gini\",\"entropy\"], \"max_depth\":range(1,10),\n",
    "              \"min_samples_split\":range(1,10), \"min_samples_leaf\":range(1,10)}\n",
    "\n",
    "grid = GridSearchCV(decision_tree, param_grid= params2, cv=skf2, verbose=1, n_jobs=6)\n",
    "grid.fit(x_train,y_train)\n",
    "model2 = grid.best_estimator_"
   ]
  },
  {
   "cell_type": "code",
   "execution_count": 46,
   "id": "b2565ab0",
   "metadata": {},
   "outputs": [
    {
     "data": {
      "text/plain": [
       "0.6839826839826839"
      ]
     },
     "execution_count": 46,
     "metadata": {},
     "output_type": "execute_result"
    }
   ],
   "source": [
    "grid.best_score_"
   ]
  },
  {
   "cell_type": "code",
   "execution_count": 47,
   "id": "d0ac8a84",
   "metadata": {},
   "outputs": [
    {
     "data": {
      "text/plain": [
       "0.65"
      ]
     },
     "execution_count": 47,
     "metadata": {},
     "output_type": "execute_result"
    }
   ],
   "source": [
    "predict_output2 = model2.predict(x_test)\n",
    "accuracy_test2 = accuracy_score(y_test,predict_output2)\n",
    "accuracy_test2"
   ]
  },
  {
   "cell_type": "code",
   "execution_count": 48,
   "id": "97c2bc82",
   "metadata": {},
   "outputs": [
    {
     "name": "stdout",
     "output_type": "stream",
     "text": [
      "              precision    recall  f1-score   support\n",
      "\n",
      "           0       0.70      0.80      0.74        20\n",
      "           1       0.58      0.55      0.56        20\n",
      "           2       0.66      0.62      0.64        40\n",
      "\n",
      "    accuracy                           0.65        80\n",
      "   macro avg       0.64      0.66      0.65        80\n",
      "weighted avg       0.65      0.65      0.65        80\n",
      "\n"
     ]
    },
    {
     "data": {
      "image/png": "[encoded data removed]",
      "text/plain": [
       "<Figure size 432x288 with 2 Axes>"
      ]
     },
     "metadata": {
      "needs_background": "light"
     },
     "output_type": "display_data"
    }
   ],
   "source": [
    "sns.heatmap(confusion_matrix(y_test, predict_output2),annot=True)\n",
    "print(classification_report(y_test,predict_output2))"
   ]
  },
  {
   "cell_type": "markdown",
   "id": "36ed7cb6",
   "metadata": {},
   "source": [
    "Pruning"
   ]
  },
  {
   "cell_type": "code",
   "execution_count": 49,
   "id": "368ddef3",
   "metadata": {},
   "outputs": [
    {
     "name": "stdout",
     "output_type": "stream",
     "text": [
      "Fitting 10 folds for each of 972 candidates, totalling 9720 fits\n",
      "Best paramters: {'criterion': 'entropy', 'max_depth': 8, 'min_samples_leaf': 6, 'min_samples_split': 2, 'splitter': 'best'})\n",
      "Train Result:\n",
      "==========================================================================\n",
      "Accuracy Score: 82.19%\n",
      "__________________________________________________________________________\n",
      "CLASSIFICATION REPORT:\n",
      "                   0          1           2  accuracy   macro avg  \\\n",
      "precision   0.819277   0.814815    0.826923  0.821875    0.820338   \n",
      "recall      0.829268   0.825000    0.816456  0.821875    0.823575   \n",
      "f1-score    0.824242   0.819876    0.821656  0.821875    0.821925   \n",
      "support    82.000000  80.000000  158.000000  0.821875  320.000000   \n",
      "\n",
      "           weighted avg  \n",
      "precision      0.821937  \n",
      "recall         0.821875  \n",
      "f1-score       0.821874  \n",
      "support      320.000000  \n",
      "__________________________________________________________________________\n",
      "Confusion Matrix: \n",
      " [[ 68   1  13]\n",
      " [  0  66  14]\n",
      " [ 15  14 129]]\n",
      "\n",
      "Test Result:\n",
      "==========================================================================\n",
      "Accuracy Score: 67.50%\n",
      "__________________________________________________________________________\n",
      "CLASSIFICATION REPORT:\n",
      "              0          1          2  accuracy  macro avg  weighted avg\n",
      "precision   0.8   0.555556   0.666667     0.675   0.674074      0.672222\n",
      "recall      0.8   0.500000   0.700000     0.675   0.666667      0.675000\n",
      "f1-score    0.8   0.526316   0.682927     0.675   0.669748      0.673042\n",
      "support    20.0  20.000000  40.000000     0.675  80.000000     80.000000\n",
      "__________________________________________________________________________\n",
      "Confusion Matrix: \n",
      " [[16  0  4]\n",
      " [ 0 10 10]\n",
      " [ 4  8 28]]\n",
      "\n"
     ]
    }
   ],
   "source": [
    "def print_score(clf, x_train, y_train, x_test, y_test, train=True):\n",
    "    if train:\n",
    "        pred = clf.predict(x_train)\n",
    "        clf_report = pd.DataFrame(classification_report(y_train, pred, output_dict=True))\n",
    "        print(\"Train Result:\\n==========================================================================\")\n",
    "        print(f\"Accuracy Score: {accuracy_score(y_train, pred) * 100:.2f}%\")\n",
    "        print(\"__________________________________________________________________________\")\n",
    "        print(f\"CLASSIFICATION REPORT:\\n{clf_report}\")\n",
    "        print(\"__________________________________________________________________________\")\n",
    "        print(f\"Confusion Matrix: \\n {confusion_matrix(y_train, pred)}\\n\")\n",
    "        \n",
    "    elif train==False:\n",
    "        pred = clf.predict(x_test)\n",
    "        clf_report = pd.DataFrame(classification_report(y_test, pred, output_dict=True))\n",
    "        print(\"Test Result:\\n==========================================================================\")        \n",
    "        print(f\"Accuracy Score: {accuracy_score(y_test, pred) * 100:.2f}%\")\n",
    "        print(\"__________________________________________________________________________\")\n",
    "        print(f\"CLASSIFICATION REPORT:\\n{clf_report}\")\n",
    "        print(\"__________________________________________________________________________\")\n",
    "        print(f\"Confusion Matrix: \\n {confusion_matrix(y_test, pred)}\\n\")\n",
    "\n",
    "params = {\"criterion\":(\"gini\", \"entropy\"), \"splitter\":(\"best\", \"random\"), \"max_depth\":(list(range(1,10))), \n",
    "          \"min_samples_split\":[2, 3, 4], \"min_samples_leaf\":list(range(1,10))}\n",
    "\n",
    "\n",
    "tree_clf = DecisionTreeClassifier(random_state= 21)\n",
    "tree_cv = GridSearchCV(tree_clf, params, scoring=\"accuracy\", n_jobs=-1, verbose=1, cv=10)\n",
    "tree_cv.fit(x_train, y_train)\n",
    "best_params = tree_cv.best_params_\n",
    "print(f\"Best paramters: {best_params})\")\n",
    "\n",
    "tree_clf = DecisionTreeClassifier(**best_params)\n",
    "tree_clf.fit(x_train, y_train)\n",
    "print_score(tree_clf, x_train, y_train, x_test, y_test, train=True)\n",
    "print_score(tree_clf, x_train, y_train, x_test, y_test, train=False)\n"
   ]
  },
  {
   "cell_type": "markdown",
   "id": "2edbd692",
   "metadata": {},
   "source": [
    "This is a balanced state of training and testing accuracy are close to each other where there is no overfitting or underfitting yet we can do better than this, let's try post pruning technique using Alpha Values"
   ]
  },
  {
   "cell_type": "code",
   "execution_count": 50,
   "id": "dcdb15e5",
   "metadata": {},
   "outputs": [
    {
     "data": {
      "text/plain": [
       "DecisionTreeClassifier(criterion='entropy', max_depth=8, min_samples_leaf=6)"
      ]
     },
     "execution_count": 50,
     "metadata": {},
     "output_type": "execute_result"
    }
   ],
   "source": [
    "clf = DecisionTreeClassifier(**best_params)\n",
    "clf.fit(x_train,y_train)"
   ]
  },
  {
   "cell_type": "code",
   "execution_count": 51,
   "id": "cb063700",
   "metadata": {},
   "outputs": [],
   "source": [
    "pred_train = clf.predict(x_train)\n",
    "pred_test = clf.predict(x_test)"
   ]
  },
  {
   "cell_type": "code",
   "execution_count": 52,
   "id": "2448d54d",
   "metadata": {},
   "outputs": [
    {
     "name": "stdout",
     "output_type": "stream",
     "text": [
      "Training Accuracy : 0.822\n",
      "Testing Accuracy  : 0.65\n"
     ]
    }
   ],
   "source": [
    "print('Training Accuracy :',accuracy_score(y_train, pred_train).round(3))\n",
    "print('Testing Accuracy  :',accuracy_score(y_test, pred_test).round(3))"
   ]
  },
  {
   "cell_type": "markdown",
   "id": "a6922798",
   "metadata": {},
   "source": [
    "**Building Decision Tree Classifier using Entropy Criteria with Alpha values Post Pruning**"
   ]
  },
  {
   "cell_type": "code",
   "execution_count": 53,
   "id": "a8c73b61",
   "metadata": {},
   "outputs": [
    {
     "data": {
      "text/plain": [
       "DecisionTreeClassifier(criterion='entropy', random_state=13)"
      ]
     },
     "execution_count": 53,
     "metadata": {},
     "output_type": "execute_result"
    }
   ],
   "source": [
    "model_entropy = DecisionTreeClassifier(criterion='entropy', random_state= 13)\n",
    "model_entropy.fit(x_train,y_train)"
   ]
  },
  {
   "cell_type": "code",
   "execution_count": 54,
   "id": "867e9c4d",
   "metadata": {},
   "outputs": [
    {
     "data": {
      "image/png": "[encoded data removed]",
      "text/plain": [
       "<Figure size 936x720 with 1 Axes>"
      ]
     },
     "metadata": {
      "needs_background": "light"
     },
     "output_type": "display_data"
    }
   ],
   "source": [
    "plt.figure(figsize=(13,10))\n",
    "tree.plot_tree(model_entropy,filled=True)\n",
    "plt.show()"
   ]
  },
  {
   "cell_type": "code",
   "execution_count": 55,
   "id": "b12ca4cb",
   "metadata": {},
   "outputs": [
    {
     "data": {
      "text/plain": [
       "2    46\n",
       "0    20\n",
       "1    14\n",
       "dtype: int64"
      ]
     },
     "execution_count": 55,
     "metadata": {},
     "output_type": "execute_result"
    }
   ],
   "source": [
    "#Predicting on test data\n",
    "preds = model_entropy.predict(x_test) # predicting on test data set \n",
    "pd.Series(preds).value_counts() # getting the count of each category "
   ]
  },
  {
   "cell_type": "code",
   "execution_count": 56,
   "id": "cc86b994",
   "metadata": {},
   "outputs": [
    {
     "name": "stdout",
     "output_type": "stream",
     "text": [
      "              precision    recall  f1-score   support\n",
      "\n",
      "           0       0.75      0.75      0.75        20\n",
      "           1       0.57      0.40      0.47        20\n",
      "           2       0.65      0.75      0.70        40\n",
      "\n",
      "    accuracy                           0.66        80\n",
      "   macro avg       0.66      0.63      0.64        80\n",
      "weighted avg       0.66      0.66      0.65        80\n",
      "\n"
     ]
    }
   ],
   "source": [
    "#Classification Report\n",
    "print(classification_report(y_test,preds))"
   ]
  },
  {
   "cell_type": "code",
   "execution_count": 57,
   "id": "77999d2e",
   "metadata": {},
   "outputs": [],
   "source": [
    "path = model_entropy.cost_complexity_pruning_path(x_train, y_train)\n",
    "ccp_alphas, impurities = path.ccp_alphas, path.impurities"
   ]
  },
  {
   "cell_type": "code",
   "execution_count": 58,
   "id": "1edc1ae8",
   "metadata": {},
   "outputs": [
    {
     "name": "stdout",
     "output_type": "stream",
     "text": [
      "Number of nodes in the last tree is: 3 with ccp_alpha: 0.17009894607233478\n"
     ]
    }
   ],
   "source": [
    "clfs = []\n",
    "for ccp_alpha in ccp_alphas:\n",
    "    clf = DecisionTreeClassifier(criterion='entropy',random_state=10, ccp_alpha=ccp_alpha)\n",
    "    clf.fit(x_train, y_train)\n",
    "    clfs.append(clf)\n",
    "print(\"Number of nodes in the last tree is: {} with ccp_alpha: {}\".format(clfs[-1].tree_.node_count, ccp_alphas[-1]))"
   ]
  },
  {
   "cell_type": "code",
   "execution_count": 59,
   "id": "6ef51c39",
   "metadata": {},
   "outputs": [
    {
     "data": {
      "image/png": "[encoded data removed]",
      "text/plain": [
       "<Figure size 792x432 with 1 Axes>"
      ]
     },
     "metadata": {
      "needs_background": "light"
     },
     "output_type": "display_data"
    }
   ],
   "source": [
    "#Accuracy vs alpha for training and testing sets\n",
    "train_scores = [clf.score(x_train, y_train) for clf in clfs]\n",
    "test_scores = [clf.score(x_test, y_test) for clf in clfs]\n",
    "\n",
    "fig, ax = plt.subplots(figsize=(11,6))\n",
    "ax.set_xlabel(\"alpha\")\n",
    "ax.set_ylabel(\"accuracy\")\n",
    "ax.set_title(\"Accuracy vs alpha for training and testing sets\")\n",
    "ax.plot(ccp_alphas, train_scores, marker='o', label=\"train\", drawstyle=\"steps-post\")\n",
    "ax.plot(ccp_alphas, test_scores, marker='o', label=\"test\", drawstyle=\"steps-post\")\n",
    "ax.legend()\n",
    "plt.show()"
   ]
  },
  {
   "cell_type": "code",
   "execution_count": 60,
   "id": "224b6b85",
   "metadata": {},
   "outputs": [
    {
     "data": {
      "text/plain": [
       "DecisionTreeClassifier(ccp_alpha=0.170098, criterion='entropy',\n",
       "                       random_state=122)"
      ]
     },
     "execution_count": 60,
     "metadata": {},
     "output_type": "execute_result"
    }
   ],
   "source": [
    "clf1 = DecisionTreeClassifier(criterion='entropy',random_state=122, ccp_alpha= 0.170098)\n",
    "clf1.fit(x_train,y_train)"
   ]
  },
  {
   "cell_type": "code",
   "execution_count": 61,
   "id": "042e73c2",
   "metadata": {},
   "outputs": [
    {
     "name": "stdout",
     "output_type": "stream",
     "text": [
      "Training Accuracy : 0.822 \n",
      "Testing Accuracy  : 0.65\n"
     ]
    }
   ],
   "source": [
    "pred_train1 = clf1.predict(x_train)\n",
    "pred_test1 = clf1.predict(x_test)\n",
    "print('Training Accuracy :',accuracy_score(y_train, pred_train).round(3),'\\n'\n",
    "      'Testing Accuracy  :',accuracy_score(y_test, pred_test).round(3))"
   ]
  },
  {
   "cell_type": "code",
   "execution_count": 62,
   "id": "c8c7d19b",
   "metadata": {},
   "outputs": [
    {
     "data": {
      "image/png": "[encoded data removed]",
      "text/plain": [
       "<Figure size 936x720 with 1 Axes>"
      ]
     },
     "metadata": {
      "needs_background": "light"
     },
     "output_type": "display_data"
    }
   ],
   "source": [
    "plt.figure(figsize=(13,10))\n",
    "tree.plot_tree(clf1,filled=True)\n",
    "plt.show()"
   ]
  },
  {
   "cell_type": "code",
   "execution_count": null,
   "id": "a2cb4717",
   "metadata": {},
   "outputs": [],
   "source": []
  },
  {
   "cell_type": "code",
   "execution_count": null,
   "id": "18cf7de8",
   "metadata": {},
   "outputs": [],
   "source": []
  },
  {
   "cell_type": "code",
   "execution_count": null,
   "id": "f80e1d89",
   "metadata": {},
   "outputs": [],
   "source": []
  },
  {
   "cell_type": "code",
   "execution_count": null,
   "id": "a007aa9b",
   "metadata": {},
   "outputs": [],
   "source": []
  }
 ],
 "metadata": {
  "kernelspec": {
   "display_name": "Python 3 (ipykernel)",
   "language": "python",
   "name": "python3"
  },
  "language_info": {
   "codemirror_mode": {
    "name": "ipython",
    "version": 3
   },
   "file_extension": ".py",
   "mimetype": "text/x-python",
   "name": "python",
   "nbconvert_exporter": "python",
   "pygments_lexer": "ipython3",
   "version": "3.9.12"
  }
 },
 "nbformat": 4,
 "nbformat_minor": 5
}
