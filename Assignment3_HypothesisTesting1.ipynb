{
 "cells": [
  {
   "cell_type": "code",
   "execution_count": 1,
   "id": "a0c29de4",
   "metadata": {},
   "outputs": [],
   "source": [
    "import pandas as pd\n",
    "import scipy\n",
    "from scipy import stats\n",
    "import numpy as np"
   ]
  },
  {
   "cell_type": "markdown",
   "id": "8eb0cb0f",
   "metadata": {},
   "source": [
    "Hypothesis Testing Exercise, A F&B manager wants to determine whether there is any significant difference in the diameter of the cutlet between two units, at 5% significance level.\n",
    "\n",
    "Its a 2 sample 2 t-test, as we are comparing 2 units mean(diameter mean of cutlets from 2 different units) Defining hypothesis test: Ho, mu(unit A) = mu(unit B) Ha, mu(unit A) != mu(unit B)"
   ]
  },
  {
   "cell_type": "code",
   "execution_count": 3,
   "id": "16efdcff",
   "metadata": {},
   "outputs": [
    {
     "name": "stdout",
     "output_type": "stream",
     "text": [
      "<class 'pandas.core.frame.DataFrame'>\n",
      "RangeIndex: 35 entries, 0 to 34\n",
      "Data columns (total 2 columns):\n",
      " #   Column  Non-Null Count  Dtype  \n",
      "---  ------  --------------  -----  \n",
      " 0   Unit A  35 non-null     float64\n",
      " 1   Unit B  35 non-null     float64\n",
      "dtypes: float64(2)\n",
      "memory usage: 688.0 bytes\n"
     ]
    },
    {
     "data": {
      "text/plain": [
       "(0, 2)"
      ]
     },
     "execution_count": 3,
     "metadata": {},
     "output_type": "execute_result"
    }
   ],
   "source": [
    "df_cutlets= pd.read_csv(\"D:\\Ankita\\Assignments\\\\Cutlets.csv\")\n",
    "df_cutlets.info()\n",
    "df_cutlets[df_cutlets.duplicated()].shape"
   ]
  },
  {
   "cell_type": "code",
   "execution_count": 4,
   "id": "2eca9066",
   "metadata": {},
   "outputs": [
    {
     "data": {
      "text/plain": [
       "Ttest_indResult(statistic=0.7228688704678063, pvalue=0.4722394724599501)"
      ]
     },
     "execution_count": 4,
     "metadata": {},
     "output_type": "execute_result"
    }
   ],
   "source": [
    "arr_unit1=df_cutlets['Unit A'].values\n",
    "arr_unit2=df_cutlets['Unit B'].values\n",
    "\n",
    "stats.ttest_ind(arr_unit1,arr_unit2)"
   ]
  },
  {
   "cell_type": "markdown",
   "id": "439eaf3b",
   "metadata": {},
   "source": [
    "significance level mentioned 0.05, translates to 95% of confidence level.\n",
    "\n",
    "result:\n",
    "(p-value)0.472 > 0.05(alfa)\n",
    "\n",
    "its a Null hypothesis, Ho: mu(unit A) = mu(unit B), statistically no significant difference in the diameter of cutlets from Unit A and Unit B."
   ]
  },
  {
   "cell_type": "code",
   "execution_count": null,
   "id": "edae87c6",
   "metadata": {},
   "outputs": [],
   "source": []
  }
 ],
 "metadata": {
  "kernelspec": {
   "display_name": "Python 3 (ipykernel)",
   "language": "python",
   "name": "python3"
  },
  "language_info": {
   "codemirror_mode": {
    "name": "ipython",
    "version": 3
   },
   "file_extension": ".py",
   "mimetype": "text/x-python",
   "name": "python",
   "nbconvert_exporter": "python",
   "pygments_lexer": "ipython3",
   "version": "3.9.12"
  }
 },
 "nbformat": 4,
 "nbformat_minor": 5
}
